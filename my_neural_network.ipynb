{
 "cells": [
  {
   "cell_type": "markdown",
   "id": "e6497731-f8b8-434e-aca4-a25c8acd9f06",
   "metadata": {},
   "source": [
    "<h1>Let's Build A Neural Network</h1>"
   ]
  },
  {
   "cell_type": "markdown",
   "id": "bffde5cf-d1c5-492b-83c8-a6097a75e6e8",
   "metadata": {},
   "source": [
    "<h2>Quick Python Review</h2>"
   ]
  },
  {
   "cell_type": "markdown",
   "id": "40cd88e6-90d5-4f5a-9ffe-7bebd33aeb6d",
   "metadata": {},
   "source": [
    "<h3>Print 'Hello World'</h3>"
   ]
  },
  {
   "cell_type": "code",
   "execution_count": 1,
   "id": "97d987af-b314-4b38-817d-1ffdd5f72f3f",
   "metadata": {},
   "outputs": [
    {
     "name": "stdout",
     "output_type": "stream",
     "text": [
      "Hello World\n"
     ]
    }
   ],
   "source": [
    "print('Hello World')"
   ]
  },
  {
   "cell_type": "markdown",
   "id": "a20cee37-eebf-4efb-9743-1794bd49c8ae",
   "metadata": {},
   "source": [
    "<h3>Arrays</h3>"
   ]
  },
  {
   "cell_type": "code",
   "execution_count": 2,
   "id": "48a2e683-0907-4b91-a1e5-2739a185223b",
   "metadata": {},
   "outputs": [],
   "source": [
    "myArray = ['Uno', 'Dos', 'Tres']"
   ]
  },
  {
   "cell_type": "code",
   "execution_count": 3,
   "id": "86bc0974-3fe5-48af-9a1b-aacec2c6868c",
   "metadata": {},
   "outputs": [
    {
     "name": "stdout",
     "output_type": "stream",
     "text": [
      "['Uno', 'Dos', 'Tres']\n"
     ]
    }
   ],
   "source": [
    "print(myArray)"
   ]
  },
  {
   "cell_type": "markdown",
   "id": "fe46bf84-f075-405a-93e2-4b37cf1f99e8",
   "metadata": {},
   "source": [
    "<h3>For loops</h3>"
   ]
  },
  {
   "cell_type": "code",
   "execution_count": 4,
   "id": "757b88ac-89b5-4ee6-96b4-ef6d73173c33",
   "metadata": {},
   "outputs": [
    {
     "name": "stdout",
     "output_type": "stream",
     "text": [
      "Uno\n",
      "Dos\n",
      "Tres\n"
     ]
    }
   ],
   "source": [
    "for n in myArray:\n",
    "    print(n)"
   ]
  },
  {
   "cell_type": "markdown",
   "id": "0a08dd0d-1a57-4394-b77d-57438f9126f5",
   "metadata": {},
   "source": [
    "<h3>Functions</h3>"
   ]
  },
  {
   "cell_type": "code",
   "execution_count": 10,
   "id": "eb4b2aa3-841e-4ddc-a350-a4ba4fa5956b",
   "metadata": {},
   "outputs": [],
   "source": [
    "def myFunction(leArray):\n",
    "    for n in leArray:\n",
    "        print(n)"
   ]
  },
  {
   "cell_type": "code",
   "execution_count": 11,
   "id": "c942a845-5b82-44e5-85fe-16667da811e9",
   "metadata": {},
   "outputs": [
    {
     "name": "stdout",
     "output_type": "stream",
     "text": [
      "Uno\n",
      "Dos\n",
      "Tres\n"
     ]
    }
   ],
   "source": [
    "myFunction(myArray)"
   ]
  },
  {
   "cell_type": "code",
   "execution_count": 12,
   "id": "613e9ea9-9196-4c5b-bcf2-ebc4762289c7",
   "metadata": {},
   "outputs": [
    {
     "name": "stdout",
     "output_type": "stream",
     "text": [
      "1\n",
      "2\n",
      "3\n"
     ]
    }
   ],
   "source": [
    "myFunction([1,2,3])"
   ]
  },
  {
   "cell_type": "code",
   "execution_count": 13,
   "id": "db9a853f-0f69-4250-9c86-12b22dc76a2d",
   "metadata": {},
   "outputs": [
    {
     "name": "stdout",
     "output_type": "stream",
     "text": [
      "0.1\n",
      "0.2\n",
      "0.3\n"
     ]
    }
   ],
   "source": [
    "myFunction([0.1,0.2,0.3])"
   ]
  },
  {
   "cell_type": "markdown",
   "id": "850de340-2f60-4013-9ea1-c8a46dcd2ebb",
   "metadata": {},
   "source": [
    "<h2>Creating Functions and Initialising The Network</h2>"
   ]
  },
  {
   "cell_type": "markdown",
   "id": "b7ddac89-caf6-45eb-a5c6-68db9c0897f6",
   "metadata": {},
   "source": [
    "A neural network should have the following basic functions:\n",
    "<ul>\n",
    "    <li><b>Initialisation</b> - for defining the input, hidden, and output nodes.</li>\n",
    "    <li><b>Training</b> - for refining the weights during the training process.</li>\n",
    "    <li><b>Query</b> - to process an output given the input.</li>\n",
    "</ul>"
   ]
  },
  {
   "cell_type": "code",
   "execution_count": 15,
   "id": "448c708c-81c6-49a9-b7fc-21511b10fe8b",
   "metadata": {},
   "outputs": [],
   "source": [
    "# class definition\n",
    "class myNeuralNetwork:\n",
    "\n",
    "    # initialisation\n",
    "    def __init__():\n",
    "        pass\n",
    "\n",
    "    # training\n",
    "    def train():\n",
    "        pass\n",
    "\n",
    "    # querying\n",
    "    def query():\n",
    "        pass"
   ]
  },
  {
   "cell_type": "markdown",
   "id": "62ed2d60-6906-4794-9faf-66d7a2703eb1",
   "metadata": {},
   "source": [
    "<h3>Initialising The Network</h3>"
   ]
  },
  {
   "cell_type": "code",
   "execution_count": null,
   "id": "f22172cc-233a-4357-80ca-d79682587e31",
   "metadata": {},
   "outputs": [],
   "source": []
  }
 ],
 "metadata": {
  "kernelspec": {
   "display_name": "Python 3 (ipykernel)",
   "language": "python",
   "name": "python3"
  },
  "language_info": {
   "codemirror_mode": {
    "name": "ipython",
    "version": 3
   },
   "file_extension": ".py",
   "mimetype": "text/x-python",
   "name": "python",
   "nbconvert_exporter": "python",
   "pygments_lexer": "ipython3",
   "version": "3.13.2"
  }
 },
 "nbformat": 4,
 "nbformat_minor": 5
}
