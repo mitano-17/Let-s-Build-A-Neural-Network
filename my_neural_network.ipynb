{
 "cells": [
  {
   "cell_type": "markdown",
   "id": "e6497731-f8b8-434e-aca4-a25c8acd9f06",
   "metadata": {},
   "source": [
    "<h1>⚒ Let's Build A Neural Network 🌐</h1>"
   ]
  },
  {
   "cell_type": "markdown",
   "id": "bffde5cf-d1c5-492b-83c8-a6097a75e6e8",
   "metadata": {},
   "source": [
    "<h2>🐍 Quick Python Review</h2>"
   ]
  },
  {
   "cell_type": "markdown",
   "id": "40cd88e6-90d5-4f5a-9ffe-7bebd33aeb6d",
   "metadata": {},
   "source": [
    "<h3>Print 'Hello World'</h3>"
   ]
  },
  {
   "cell_type": "code",
   "execution_count": 1,
   "id": "97d987af-b314-4b38-817d-1ffdd5f72f3f",
   "metadata": {},
   "outputs": [
    {
     "name": "stdout",
     "output_type": "stream",
     "text": [
      "Hello World\n"
     ]
    }
   ],
   "source": [
    "print('Hello World')"
   ]
  },
  {
   "cell_type": "markdown",
   "id": "a20cee37-eebf-4efb-9743-1794bd49c8ae",
   "metadata": {},
   "source": [
    "<h3>Arrays</h3>"
   ]
  },
  {
   "cell_type": "code",
   "execution_count": 2,
   "id": "48a2e683-0907-4b91-a1e5-2739a185223b",
   "metadata": {},
   "outputs": [],
   "source": [
    "myArray = ['Uno', 'Dos', 'Tres']"
   ]
  },
  {
   "cell_type": "code",
   "execution_count": 3,
   "id": "86bc0974-3fe5-48af-9a1b-aacec2c6868c",
   "metadata": {},
   "outputs": [
    {
     "name": "stdout",
     "output_type": "stream",
     "text": [
      "['Uno', 'Dos', 'Tres']\n"
     ]
    }
   ],
   "source": [
    "print(myArray)"
   ]
  },
  {
   "cell_type": "markdown",
   "id": "fe46bf84-f075-405a-93e2-4b37cf1f99e8",
   "metadata": {},
   "source": [
    "<h3>For loops</h3>"
   ]
  },
  {
   "cell_type": "code",
   "execution_count": 4,
   "id": "757b88ac-89b5-4ee6-96b4-ef6d73173c33",
   "metadata": {},
   "outputs": [
    {
     "name": "stdout",
     "output_type": "stream",
     "text": [
      "Uno\n",
      "Dos\n",
      "Tres\n"
     ]
    }
   ],
   "source": [
    "for n in myArray:\n",
    "    print(n)"
   ]
  },
  {
   "cell_type": "markdown",
   "id": "0a08dd0d-1a57-4394-b77d-57438f9126f5",
   "metadata": {},
   "source": [
    "<h3>Functions</h3>"
   ]
  },
  {
   "cell_type": "code",
   "execution_count": 5,
   "id": "eb4b2aa3-841e-4ddc-a350-a4ba4fa5956b",
   "metadata": {},
   "outputs": [],
   "source": [
    "def myFunction(leArray):\n",
    "    for n in leArray:\n",
    "        print(n)"
   ]
  },
  {
   "cell_type": "code",
   "execution_count": 6,
   "id": "c942a845-5b82-44e5-85fe-16667da811e9",
   "metadata": {},
   "outputs": [
    {
     "name": "stdout",
     "output_type": "stream",
     "text": [
      "Uno\n",
      "Dos\n",
      "Tres\n"
     ]
    }
   ],
   "source": [
    "myFunction(myArray)"
   ]
  },
  {
   "cell_type": "code",
   "execution_count": 7,
   "id": "613e9ea9-9196-4c5b-bcf2-ebc4762289c7",
   "metadata": {},
   "outputs": [
    {
     "name": "stdout",
     "output_type": "stream",
     "text": [
      "1\n",
      "2\n",
      "3\n"
     ]
    }
   ],
   "source": [
    "myFunction([1, 2, 3])"
   ]
  },
  {
   "cell_type": "code",
   "execution_count": 8,
   "id": "db9a853f-0f69-4250-9c86-12b22dc76a2d",
   "metadata": {},
   "outputs": [
    {
     "name": "stdout",
     "output_type": "stream",
     "text": [
      "0.1\n",
      "0.2\n",
      "0.3\n"
     ]
    }
   ],
   "source": [
    "myFunction([0.1, 0.2, 0.3])"
   ]
  },
  {
   "cell_type": "markdown",
   "id": "850de340-2f60-4013-9ea1-c8a46dcd2ebb",
   "metadata": {},
   "source": [
    "<h2>🛠 Creating Functions and Initialising The Network</h2>"
   ]
  },
  {
   "cell_type": "markdown",
   "id": "b7ddac89-caf6-45eb-a5c6-68db9c0897f6",
   "metadata": {},
   "source": [
    "A neural network should have the following basic functions:\n",
    "<ul>\n",
    "    <li><b>Initialisation</b> - for defining the input, hidden, and output nodes.</li>\n",
    "    <li><b>Training</b> - for refining the weights during the training process.</li>\n",
    "    <li><b>Query</b> - to process an output given the input.</li>\n",
    "</ul>"
   ]
  },
  {
   "cell_type": "code",
   "execution_count": 9,
   "id": "448c708c-81c6-49a9-b7fc-21511b10fe8b",
   "metadata": {},
   "outputs": [],
   "source": [
    "# class definition\n",
    "class myNeuralNetwork:\n",
    "\n",
    "    # initialisation\n",
    "    def __init__():\n",
    "        pass\n",
    "\n",
    "    # training\n",
    "    def train():\n",
    "        pass\n",
    "\n",
    "    # querying\n",
    "    def query():\n",
    "        pass"
   ]
  },
  {
   "cell_type": "markdown",
   "id": "62ed2d60-6906-4794-9faf-66d7a2703eb1",
   "metadata": {},
   "source": [
    "<h3>Initialising the Network</h3>"
   ]
  },
  {
   "cell_type": "code",
   "execution_count": 10,
   "id": "f22172cc-233a-4357-80ca-d79682587e31",
   "metadata": {},
   "outputs": [],
   "source": [
    "# class definition\n",
    "class myNeuralNetwork:\n",
    "\n",
    "    # initialisation\n",
    "    def __init__(self, inputNodes, hiddenNodes, outputNodes, learningRate):\n",
    "        # set number of nodes per layer\n",
    "        self.inputNodes = inputNodes\n",
    "        self.hiddenNodes = hiddenNodes\n",
    "        self.outputNodes = outputNodes\n",
    "\n",
    "        # set learning rate\n",
    "        self.learningRate = learningRate\n",
    "\n",
    "        pass\n",
    "\n",
    "    # training\n",
    "    def train():\n",
    "        pass\n",
    "\n",
    "    # querying\n",
    "    def query():\n",
    "        pass"
   ]
  },
  {
   "cell_type": "code",
   "execution_count": 11,
   "id": "a3ce0174-e081-4799-8b44-1a6d29a3c392",
   "metadata": {},
   "outputs": [],
   "source": [
    "# set number of nodes per layer\n",
    "inputNodes = 3\n",
    "hiddenNodes = 3\n",
    "outputNodes = 3\n",
    "\n",
    "# set learning rate\n",
    "learningRate = 0.3"
   ]
  },
  {
   "cell_type": "code",
   "execution_count": 12,
   "id": "d09763d6-e4eb-4028-bf00-f95b88ad8380",
   "metadata": {},
   "outputs": [],
   "source": [
    "# create instance of neural network\n",
    "myNetwork = myNeuralNetwork(inputNodes, hiddenNodes, outputNodes, learningRate)"
   ]
  },
  {
   "cell_type": "markdown",
   "id": "d46ccdbd-f9aa-401b-9860-e672a4ecb655",
   "metadata": {},
   "source": [
    "<h3>Initialising Weights</h3>"
   ]
  },
  {
   "cell_type": "markdown",
   "id": "929d2e29-7356-45ef-b612-8807e2cca85a",
   "metadata": {},
   "source": [
    "<h4>Import Numpy Library</h4>"
   ]
  },
  {
   "cell_type": "code",
   "execution_count": 13,
   "id": "26bfae91-5af3-4b7e-8ebc-46551aac1cb1",
   "metadata": {},
   "outputs": [],
   "source": [
    "import numpy as np"
   ]
  },
  {
   "cell_type": "code",
   "execution_count": 14,
   "id": "47954940-f0d9-4b57-ab58-1ba0820b523d",
   "metadata": {},
   "outputs": [
    {
     "data": {
      "text/plain": [
       "array([[ 0.24295337, -0.08753297,  0.18985849],\n",
       "       [ 0.42749658,  0.08858209, -0.37869286],\n",
       "       [-0.47327039, -0.065084  ,  0.04899829]])"
      ]
     },
     "execution_count": 14,
     "metadata": {},
     "output_type": "execute_result"
    }
   ],
   "source": [
    "np.random.rand(3, 3) - 0.5"
   ]
  },
  {
   "cell_type": "code",
   "execution_count": 15,
   "id": "4da5fa0a-2b57-46be-b0a9-860f70293c91",
   "metadata": {},
   "outputs": [
    {
     "data": {
      "text/plain": [
       "array([[-0.68156712, -0.00390809, -0.41305279],\n",
       "       [-0.50453594,  0.48360838, -0.46689913],\n",
       "       [ 0.21836345,  0.33649179, -0.6231016 ]])"
      ]
     },
     "execution_count": 15,
     "metadata": {},
     "output_type": "execute_result"
    }
   ],
   "source": [
    "np.random.normal(0.0, pow(inputNodes, -0.5), size=(hiddenNodes, inputNodes))"
   ]
  },
  {
   "cell_type": "markdown",
   "id": "c176a338-7eb2-489b-a064-80eeeed0da00",
   "metadata": {},
   "source": [
    "<h4>Adding Weights To Our __init__ Function</h4>"
   ]
  },
  {
   "cell_type": "code",
   "execution_count": 16,
   "id": "df659908-674e-40d8-b718-489abad49798",
   "metadata": {},
   "outputs": [],
   "source": [
    "# class definition\n",
    "class myNeuralNetwork:\n",
    "\n",
    "    # initialisation\n",
    "    def __init__(self, inputNodes, hiddenNodes, outputNodes, learningRate):\n",
    "        # set number of nodes per layer\n",
    "        self.inputNodes = inputNodes\n",
    "        self.hiddenNodes = hiddenNodes\n",
    "        self.outputNodes = outputNodes\n",
    "\n",
    "        # set learning rate\n",
    "        self.learningRate = learningRate\n",
    "\n",
    "        # link weight matrices between nodes\n",
    "        self.weightsInputToHidden = numpy.random.normal(0.0, pow(inputNodes, -0.5), size=(hiddenNodes, inputNodes))\n",
    "        self.weightsHiddenToOutput = numpy.random.normal(0.0, pow(hiddenNodes, -0.5), size=(outputNodes, hiddenNodes))\n",
    "\n",
    "        pass\n",
    "\n",
    "    # training\n",
    "    def train():\n",
    "        pass\n",
    "\n",
    "    # querying\n",
    "    def query():\n",
    "        pass"
   ]
  },
  {
   "cell_type": "markdown",
   "id": "bfe30cc0-616e-4196-b0c4-645b36b105a6",
   "metadata": {},
   "source": [
    "<h2>🗃 Querying the Network</h2>"
   ]
  },
  {
   "cell_type": "markdown",
   "id": "caa20c21-0154-47a0-adbd-a13716a4218d",
   "metadata": {},
   "source": [
    "<h3>Activation Function</h3>"
   ]
  },
  {
   "cell_type": "code",
   "execution_count": 17,
   "id": "38ee1fab-5e13-4c98-a8e9-011d5a146726",
   "metadata": {},
   "outputs": [],
   "source": [
    "import scipy.special"
   ]
  },
  {
   "cell_type": "code",
   "execution_count": 18,
   "id": "0006225a-368d-47d6-84c8-87bc538534e7",
   "metadata": {},
   "outputs": [],
   "source": [
    "# sigmoid function\n",
    "activationFunction = lambda x: scipy.special.expit(x)"
   ]
  },
  {
   "cell_type": "code",
   "execution_count": 19,
   "id": "3e7cbae8-9f52-4cd2-88ac-333eb8b33ef5",
   "metadata": {},
   "outputs": [],
   "source": [
    "# class definition\n",
    "class myNeuralNetwork:\n",
    "\n",
    "    # initialisation\n",
    "    def __init__(self, inputNodes, hiddenNodes, outputNodes, learningRate):\n",
    "        # set number of nodes per layer\n",
    "        self.inputNodes = inputNodes\n",
    "        self.hiddenNodes = hiddenNodes\n",
    "        self.outputNodes = outputNodes\n",
    "\n",
    "        # set learning rate\n",
    "        self.learningRate = learningRate\n",
    "\n",
    "        # link weight matrices between nodes\n",
    "        self.weightsInputToHidden = np.random.normal(0.0, pow(inputNodes, -0.5), size=(hiddenNodes, inputNodes))\n",
    "        self.weightsHiddenToOutput = np.random.normal(0.0, pow(hiddenNodes, -0.5), size=(outputNodes, hiddenNodes))\n",
    "\n",
    "        # sigmoid function\n",
    "        self.activationFunction = lambda x: scipy.special.expit(x)\n",
    "\n",
    "        pass\n",
    "\n",
    "    # training\n",
    "    def train():\n",
    "        pass\n",
    "\n",
    "    # querying\n",
    "    def query():\n",
    "        pass"
   ]
  },
  {
   "cell_type": "markdown",
   "id": "0d79f2b6-bf1e-4ff9-90d8-47fe0015d3ad",
   "metadata": {},
   "source": [
    "<h3>Matrix Computation Using Dot Function</h3>"
   ]
  },
  {
   "cell_type": "code",
   "execution_count": 20,
   "id": "4435f167-fab4-4340-9842-2e786fba3408",
   "metadata": {},
   "outputs": [
    {
     "data": {
      "text/plain": [
       "[[1, 2, 3], [4, 5, 6], [7, 8, 9]]"
      ]
     },
     "execution_count": 20,
     "metadata": {},
     "output_type": "execute_result"
    }
   ],
   "source": [
    "myArray1 = ([[1, 2, 3], \n",
    "             [4, 5, 6], \n",
    "             [7, 8, 9]])\n",
    "myArray1"
   ]
  },
  {
   "cell_type": "code",
   "execution_count": 21,
   "id": "de269c15-7088-4f02-8b36-6cac0a2410f2",
   "metadata": {},
   "outputs": [
    {
     "data": {
      "text/plain": [
       "[[1], [1], [1]]"
      ]
     },
     "execution_count": 21,
     "metadata": {},
     "output_type": "execute_result"
    }
   ],
   "source": [
    "myArray2 = ([[1], \n",
    "             [1], \n",
    "             [1]])\n",
    "myArray2"
   ]
  },
  {
   "cell_type": "code",
   "execution_count": 22,
   "id": "18a7e702-6a73-404c-b369-950e86b38b1f",
   "metadata": {},
   "outputs": [
    {
     "data": {
      "text/plain": [
       "array([[ 6],\n",
       "       [15],\n",
       "       [24]])"
      ]
     },
     "execution_count": 22,
     "metadata": {},
     "output_type": "execute_result"
    }
   ],
   "source": [
    "np.dot(myArray1, myArray2)"
   ]
  },
  {
   "cell_type": "markdown",
   "id": "cbcc0e92-b042-48ae-9e5d-f4bd3a6d1783",
   "metadata": {},
   "source": [
    "<h3>Calculating Signals Between Layers</h3>"
   ]
  },
  {
   "cell_type": "code",
   "execution_count": 23,
   "id": "946fba0b-ece0-4242-a061-28c3ff64dd59",
   "metadata": {},
   "outputs": [],
   "source": [
    "inputsList = ([[1, 2, 3], \n",
    "             [4, 5, 6], \n",
    "             [7, 8, 9]])\n",
    "\n",
    "# convert inputs to 2D matrix\n",
    "inputs = np.array(inputsList, ndmin = 2).T"
   ]
  },
  {
   "cell_type": "code",
   "execution_count": 24,
   "id": "cbf66179-b3ab-471c-b4cd-359114bec560",
   "metadata": {},
   "outputs": [],
   "source": [
    "# class definition\n",
    "class myNeuralNetwork:\n",
    "\n",
    "    # initialisation\n",
    "    def __init__(self, inputNodes, hiddenNodes, outputNodes, learningRate):\n",
    "        # set number of nodes per layer\n",
    "        self.inputNodes = inputNodes\n",
    "        self.hiddenNodes = hiddenNodes\n",
    "        self.outputNodes = outputNodes\n",
    "\n",
    "        # set learning rate\n",
    "        self.learningRate = learningRate\n",
    "\n",
    "        # link weight matrices between nodes\n",
    "        self.weightsInputToHidden = np.random.normal(0.0, pow(inputNodes, -0.5), size=(hiddenNodes, inputNodes))\n",
    "        self.weightsHiddenToOutput = np.random.normal(0.0, pow(hiddenNodes, -0.5), size=(outputNodes, hiddenNodes))\n",
    "\n",
    "        # sigmoid function\n",
    "        self.activationFunction = lambda x: scipy.special.expit(x)\n",
    "\n",
    "        pass\n",
    "\n",
    "    # training\n",
    "    def train():\n",
    "        pass\n",
    "\n",
    "    # querying\n",
    "    def query(self, inputsList):\n",
    "        # convert inputs to 2D matrix\n",
    "        inputs = np.array(inputsList, ndmin = 2).T\n",
    "        \n",
    "        # compute signals into hidden layer\n",
    "        hiddenInputs = np.dot(self.weightsInputToHidden, inputs)\n",
    "        # compute signals from hidden layer\n",
    "        hiddenOutputs = self.activationFunction(hiddenInputs)\n",
    "\n",
    "        # compute signals into output layer\n",
    "        finalInputs = np.dot(self.weightsHiddenToOutput, hiddenOutputs)\n",
    "        # compute signals from output layer\n",
    "        finalOutputs = self.activationFunction(finalInputs)\n",
    "        \n",
    "        return finalOutputs"
   ]
  },
  {
   "cell_type": "markdown",
   "id": "4f8ca56a-0c7e-4d2c-a184-a36e0d607153",
   "metadata": {},
   "source": [
    "<h3>Testing the Network</h3>"
   ]
  },
  {
   "cell_type": "code",
   "execution_count": 25,
   "id": "e3d61970-bb08-4386-bb05-a97c7ce984ee",
   "metadata": {},
   "outputs": [],
   "source": [
    "# set number of nodes per layer\n",
    "inputNodes = 3\n",
    "hiddenNodes = 3\n",
    "outputNodes = 3\n",
    "\n",
    "# set learning rate\n",
    "learningRate = 0.3"
   ]
  },
  {
   "cell_type": "code",
   "execution_count": 26,
   "id": "93a9c4bf-b434-4eff-809b-1d2571249dd2",
   "metadata": {},
   "outputs": [],
   "source": [
    "# create instance of neural network\n",
    "myNetwork = myNeuralNetwork(inputNodes, hiddenNodes, outputNodes, learningRate)"
   ]
  },
  {
   "cell_type": "code",
   "execution_count": 27,
   "id": "ba002091-d6e8-4dc4-9146-f65b09721a4d",
   "metadata": {},
   "outputs": [
    {
     "data": {
      "text/plain": [
       "array([[0.34643037],\n",
       "       [0.59182636],\n",
       "       [0.49018589]])"
      ]
     },
     "execution_count": 27,
     "metadata": {},
     "output_type": "execute_result"
    }
   ],
   "source": [
    "myNetwork.query([1.0, 0.5, -1.5])"
   ]
  },
  {
   "cell_type": "markdown",
   "id": "46dd4a31-3271-413f-9b00-63fc28dac973",
   "metadata": {},
   "source": [
    "<h2>🛴 Building the Training Function</h2>"
   ]
  },
  {
   "cell_type": "markdown",
   "id": "94d02ae8-b957-446e-a388-b521d63d1ae5",
   "metadata": {},
   "source": [
    "<h3>Calculating Signals Between Layers</h3>"
   ]
  },
  {
   "cell_type": "code",
   "execution_count": 28,
   "id": "2faa45b7-bc45-4e91-a430-14663c24d7fa",
   "metadata": {},
   "outputs": [],
   "source": [
    "# class definition\n",
    "class myNeuralNetwork:\n",
    "\n",
    "    # initialisation\n",
    "    def __init__(self, inputNodes, hiddenNodes, outputNodes, learningRate):\n",
    "        # set number of nodes per layer\n",
    "        self.inputNodes = inputNodes\n",
    "        self.hiddenNodes = hiddenNodes\n",
    "        self.outputNodes = outputNodes\n",
    "\n",
    "        # set learning rate\n",
    "        self.learningRate = learningRate\n",
    "\n",
    "        # link weight matrices between nodes\n",
    "        self.weightsInputToHidden = np.random.normal(0.0, pow(inputNodes, -0.5), size=(hiddenNodes, inputNodes))\n",
    "        self.weightsHiddenToOutput = np.random.normal(0.0, pow(hiddenNodes, -0.5), size=(outputNodes, hiddenNodes))\n",
    "\n",
    "        # sigmoid function\n",
    "        self.activationFunction = lambda x: scipy.special.expit(x)\n",
    "\n",
    "        pass\n",
    "\n",
    "    # training\n",
    "    def train(self, inputsList, targetsList):\n",
    "        # convert inputs and targets list to 2D matrices\n",
    "        inputs = np.array(inputsList, ndmin = 2).T\n",
    "        targets = np.array(targetsList, ndmin = 2).T\n",
    "\n",
    "        # compute signals into hidden layer\n",
    "        hiddenInputs = np.dot(self.weightsInputToHidden, inputs)\n",
    "        # compute signals from hidden layer\n",
    "        hiddenOutputs = self.activationFunction(hiddenInputs)\n",
    "\n",
    "        # compute signals into output layer\n",
    "        finalInputs = np.dot(self.weightsHiddenToOutput, hiddenOutputs)\n",
    "        # compute signals from output layer\n",
    "        finalOutputs = self.activationFunction(finalInputs)\n",
    "        \n",
    "        pass\n",
    "\n",
    "    # querying\n",
    "    def query(self, inputsList):\n",
    "        # convert inputs to 2D matrix\n",
    "        inputs = np.array(inputsList, ndmin = 2).T\n",
    "        \n",
    "        # compute signals into hidden layer\n",
    "        hiddenInputs = np.dot(self.weightsInputToHidden, inputs)\n",
    "        # compute signals from hidden layer\n",
    "        hiddenOutputs = self.activationFunction(hiddenInputs)\n",
    "\n",
    "        # compute signals into output layer\n",
    "        finalInputs = np.dot(self.weightsHiddenToOutput, hiddenOutputs)\n",
    "        # compute signals from output layer\n",
    "        finalOutputs = self.activationFunction(finalInputs)\n",
    "        \n",
    "        return finalOutputs"
   ]
  },
  {
   "cell_type": "markdown",
   "id": "fe143563-6e70-42b8-a8ba-bc22ac28add9",
   "metadata": {},
   "source": [
    "<h3>Compute Errors</h3>"
   ]
  },
  {
   "cell_type": "code",
   "execution_count": 29,
   "id": "f08d753f-083e-405e-bd33-8336990b2b28",
   "metadata": {},
   "outputs": [],
   "source": [
    "# class definition\n",
    "class myNeuralNetwork:\n",
    "\n",
    "    # initialisation\n",
    "    def __init__(self, inputNodes, hiddenNodes, outputNodes, learningRate):\n",
    "        # set number of nodes per layer\n",
    "        self.inputNodes = inputNodes\n",
    "        self.hiddenNodes = hiddenNodes\n",
    "        self.outputNodes = outputNodes\n",
    "\n",
    "        # set learning rate\n",
    "        self.learningRate = learningRate\n",
    "\n",
    "        # link weight matrices between nodes\n",
    "        self.weightsInputToHidden = np.random.normal(0.0, pow(inputNodes, -0.5), size=(hiddenNodes, inputNodes))\n",
    "        self.weightsHiddenToOutput = np.random.normal(0.0, pow(hiddenNodes, -0.5), size=(outputNodes, hiddenNodes))\n",
    "\n",
    "        # sigmoid function\n",
    "        self.activationFunction = lambda x: scipy.special.expit(x)\n",
    "\n",
    "        pass\n",
    "\n",
    "    # training\n",
    "    def train(self, inputsList, targetsList):\n",
    "        # convert inputs and targets list to 2D matrices\n",
    "        inputs = np.array(inputsList, ndmin = 2).T\n",
    "        targets = np.array(targetsList, ndmin = 2).T\n",
    "\n",
    "        # compute signals into hidden layer\n",
    "        hiddenInputs = np.dot(self.weightsInputToHidden, inputs)\n",
    "        # compute signals from hidden layer\n",
    "        hiddenOutputs = self.activationFunction(hiddenInputs)\n",
    "\n",
    "        # compute signals into output layer\n",
    "        finalInputs = np.dot(self.weightsHiddenToOutput, hiddenOutputs)\n",
    "        # compute signals from output layer\n",
    "        finalOutputs = self.activationFunction(finalInputs)\n",
    "\n",
    "        # output layer error\n",
    "        outputErrors = targets - finalOutputs\n",
    "        # hidden layer error\n",
    "        hiddenErrors = np.dot(self.weightsHiddenToOutput.T, outputErrors)\n",
    "        \n",
    "        pass\n",
    "\n",
    "    # querying\n",
    "    def query(self, inputsList):\n",
    "        # convert inputs to 2D matrix\n",
    "        inputs = np.array(inputsList, ndmin = 2).T\n",
    "        \n",
    "        # compute signals into hidden layer\n",
    "        hiddenInputs = np.dot(self.weightsInputToHidden, inputs)\n",
    "        # compute signals from hidden layer\n",
    "        hiddenOutputs = self.activationFunction(hiddenInputs)\n",
    "\n",
    "        # compute signals into output layer\n",
    "        finalInputs = np.dot(self.weightsHiddenToOutput, hiddenOutputs)\n",
    "        # compute signals from output layer\n",
    "        finalOutputs = self.activationFunction(finalInputs)\n",
    "        \n",
    "        return finalOutputs"
   ]
  },
  {
   "cell_type": "markdown",
   "id": "8af44d71-4df3-424b-8ed4-b1a05a1cc09d",
   "metadata": {},
   "source": [
    "<h3>Update Weights</h3>"
   ]
  },
  {
   "cell_type": "code",
   "execution_count": 30,
   "id": "9326ebc1-f7fa-4ba6-800c-d3326c8da164",
   "metadata": {},
   "outputs": [],
   "source": [
    "# class definition\n",
    "class myNeuralNetwork:\n",
    "\n",
    "    # initialisation\n",
    "    def __init__(self, inputNodes, hiddenNodes, outputNodes, learningRate):\n",
    "        # set number of nodes per layer\n",
    "        self.inputNodes = inputNodes\n",
    "        self.hiddenNodes = hiddenNodes\n",
    "        self.outputNodes = outputNodes\n",
    "\n",
    "        # set learning rate\n",
    "        self.learningRate = learningRate\n",
    "\n",
    "        # link weight matrices between nodes\n",
    "        self.weightsInputToHidden = np.random.normal(0.0, pow(inputNodes, -0.5), size=(hiddenNodes, inputNodes))\n",
    "        self.weightsHiddenToOutput = np.random.normal(0.0, pow(hiddenNodes, -0.5), size=(outputNodes, hiddenNodes))\n",
    "\n",
    "        # sigmoid function\n",
    "        self.activationFunction = lambda x: scipy.special.expit(x)\n",
    "\n",
    "        pass\n",
    "\n",
    "    # training\n",
    "    def train(self, inputsList, targetsList):\n",
    "        # convert inputs and targets list to 2D matrices\n",
    "        inputs = np.array(inputsList, ndmin = 2).T\n",
    "        targets = np.array(targetsList, ndmin = 2).T\n",
    "\n",
    "        # compute signals into hidden layer\n",
    "        hiddenInputs = np.dot(self.weightsInputToHidden, inputs)\n",
    "        # compute signals from hidden layer\n",
    "        hiddenOutputs = self.activationFunction(hiddenInputs)\n",
    "\n",
    "        # compute signals into output layer\n",
    "        finalInputs = np.dot(self.weightsHiddenToOutput, hiddenOutputs)\n",
    "        # compute signals from output layer\n",
    "        finalOutputs = self.activationFunction(finalInputs)\n",
    "\n",
    "        # output layer error\n",
    "        outputErrors = targets - finalOutputs\n",
    "        # hidden layer error\n",
    "        hiddenErrors = np.dot(self.weightsHiddenToOutput.T, outputErrors)\n",
    "\n",
    "        # update weights between hidden and output layers\n",
    "        self.weightsHiddenToOutput += self.learningRate * np.dot((outputErrors * finalOutputs * (1.0 - finalOutputs)), hiddenOutputs.T)\n",
    "        # update weights between input and hidden layers\n",
    "        self.weightsInputToHidden += self.learningRate * np.dot((hiddenErrors * hiddenOutputs * (1.0 - hiddenOutputs)), inputs.T)\n",
    "        \n",
    "        pass\n",
    "\n",
    "    # querying\n",
    "    def query(self, inputsList):\n",
    "        # convert inputs to 2D matrix\n",
    "        inputs = np.array(inputsList, ndmin = 2).T\n",
    "        \n",
    "        # compute signals into hidden layer\n",
    "        hiddenInputs = np.dot(self.weightsInputToHidden, inputs)\n",
    "        # compute signals from hidden layer\n",
    "        hiddenOutputs = self.activationFunction(hiddenInputs)\n",
    "\n",
    "        # compute signals into output layer\n",
    "        finalInputs = np.dot(self.weightsHiddenToOutput, hiddenOutputs)\n",
    "        # compute signals from output layer\n",
    "        finalOutputs = self.activationFunction(finalInputs)\n",
    "        \n",
    "        return finalOutputs"
   ]
  },
  {
   "cell_type": "markdown",
   "id": "9b0484a3-c761-436f-b3de-0e1d0fd1679c",
   "metadata": {},
   "source": [
    "<h2>📚 Preparing MNIST Dataset</h2>"
   ]
  },
  {
   "cell_type": "markdown",
   "id": "4f5fe9e0-5b0a-46a5-b178-8236d2cd9756",
   "metadata": {},
   "source": [
    "<h3>Reading Training Data</h3>"
   ]
  },
  {
   "cell_type": "code",
   "execution_count": 31,
   "id": "6c2582c8-5b0b-4490-bc69-fc3bb2d7159f",
   "metadata": {},
   "outputs": [],
   "source": [
    "trainData = open(\"mnist_dataset/mnist_train_100.csv\", 'r')\n",
    "trainDataList = trainData.readlines()\n",
    "trainData.close()"
   ]
  },
  {
   "cell_type": "code",
   "execution_count": 32,
   "id": "838a0074-9e6d-4455-a720-e06ecb1f8eb5",
   "metadata": {},
   "outputs": [
    {
     "data": {
      "text/plain": [
       "100"
      ]
     },
     "execution_count": 32,
     "metadata": {},
     "output_type": "execute_result"
    }
   ],
   "source": [
    "len(trainDataList)"
   ]
  },
  {
   "cell_type": "code",
   "execution_count": 33,
   "id": "642c216c-f79c-4a70-ae99-6b70ca5edf6f",
   "metadata": {},
   "outputs": [
    {
     "data": {
      "text/plain": [
       "'5,0,0,0,0,0,0,0,0,0,0,0,0,0,0,0,0,0,0,0,0,0,0,0,0,0,0,0,0,0,0,0,0,0,0,0,0,0,0,0,0,0,0,0,0,0,0,0,0,0,0,0,0,0,0,0,0,0,0,0,0,0,0,0,0,0,0,0,0,0,0,0,0,0,0,0,0,0,0,0,0,0,0,0,0,0,0,0,0,0,0,0,0,0,0,0,0,0,0,0,0,0,0,0,0,0,0,0,0,0,0,0,0,0,0,0,0,0,0,0,0,0,0,0,0,0,0,0,0,0,0,0,0,0,0,0,0,0,0,0,0,0,0,0,0,0,0,0,0,0,0,0,0,3,18,18,18,126,136,175,26,166,255,247,127,0,0,0,0,0,0,0,0,0,0,0,0,30,36,94,154,170,253,253,253,253,253,225,172,253,242,195,64,0,0,0,0,0,0,0,0,0,0,0,49,238,253,253,253,253,253,253,253,253,251,93,82,82,56,39,0,0,0,0,0,0,0,0,0,0,0,0,18,219,253,253,253,253,253,198,182,247,241,0,0,0,0,0,0,0,0,0,0,0,0,0,0,0,0,0,0,80,156,107,253,253,205,11,0,43,154,0,0,0,0,0,0,0,0,0,0,0,0,0,0,0,0,0,0,0,14,1,154,253,90,0,0,0,0,0,0,0,0,0,0,0,0,0,0,0,0,0,0,0,0,0,0,0,0,0,139,253,190,2,0,0,0,0,0,0,0,0,0,0,0,0,0,0,0,0,0,0,0,0,0,0,0,0,11,190,253,70,0,0,0,0,0,0,0,0,0,0,0,0,0,0,0,0,0,0,0,0,0,0,0,0,0,35,241,225,160,108,1,0,0,0,0,0,0,0,0,0,0,0,0,0,0,0,0,0,0,0,0,0,0,0,81,240,253,253,119,25,0,0,0,0,0,0,0,0,0,0,0,0,0,0,0,0,0,0,0,0,0,0,0,45,186,253,253,150,27,0,0,0,0,0,0,0,0,0,0,0,0,0,0,0,0,0,0,0,0,0,0,0,16,93,252,253,187,0,0,0,0,0,0,0,0,0,0,0,0,0,0,0,0,0,0,0,0,0,0,0,0,0,249,253,249,64,0,0,0,0,0,0,0,0,0,0,0,0,0,0,0,0,0,0,0,0,0,46,130,183,253,253,207,2,0,0,0,0,0,0,0,0,0,0,0,0,0,0,0,0,0,0,0,39,148,229,253,253,253,250,182,0,0,0,0,0,0,0,0,0,0,0,0,0,0,0,0,0,0,24,114,221,253,253,253,253,201,78,0,0,0,0,0,0,0,0,0,0,0,0,0,0,0,0,0,23,66,213,253,253,253,253,198,81,2,0,0,0,0,0,0,0,0,0,0,0,0,0,0,0,0,18,171,219,253,253,253,253,195,80,9,0,0,0,0,0,0,0,0,0,0,0,0,0,0,0,0,55,172,226,253,253,253,253,244,133,11,0,0,0,0,0,0,0,0,0,0,0,0,0,0,0,0,0,0,136,253,253,253,212,135,132,16,0,0,0,0,0,0,0,0,0,0,0,0,0,0,0,0,0,0,0,0,0,0,0,0,0,0,0,0,0,0,0,0,0,0,0,0,0,0,0,0,0,0,0,0,0,0,0,0,0,0,0,0,0,0,0,0,0,0,0,0,0,0,0,0,0,0,0,0,0,0,0,0,0,0,0,0,0,0,0,0,0,0,0,0,0,0,0,0,0,0,0,0,0,0,0,0,0,0,0,0\\n'"
      ]
     },
     "execution_count": 33,
     "metadata": {},
     "output_type": "execute_result"
    }
   ],
   "source": [
    "trainDataList[0]"
   ]
  },
  {
   "cell_type": "markdown",
   "id": "d03e1bd2-62ed-405a-ac1b-8c9c40d6a787",
   "metadata": {},
   "source": [
    "<h3>Plotting Training Data</h3>"
   ]
  },
  {
   "cell_type": "code",
   "execution_count": 34,
   "id": "c0e805fb-0caf-4dc6-94b4-4b9eb3bbf5cc",
   "metadata": {},
   "outputs": [],
   "source": [
    "import numpy\n",
    "import matplotlib.pyplot as plt\n",
    "%matplotlib inline"
   ]
  },
  {
   "cell_type": "code",
   "execution_count": 35,
   "id": "9b7edb38-514f-4344-9b30-1a1fdb24baf9",
   "metadata": {},
   "outputs": [
    {
     "data": {
      "text/plain": [
       "<matplotlib.image.AxesImage at 0x190ea796120>"
      ]
     },
     "execution_count": 35,
     "metadata": {},
     "output_type": "execute_result"
    }
   ],
   "source": [
    "sample = trainDataList[0].split(\",\")\n",
    "imageArray = np.asarray(sample[1:], dtype='float').reshape((28, 28))\n",
    "plt.imshow(imageArray, cmap='RdPu', interpolation='None')"
   ]
  },
  {
   "cell_type": "code",
   "execution_count": 36,
   "id": "b3b13c76-0556-4fb1-a53c-0e0daca969d3",
   "metadata": {},
   "outputs": [
    {
     "data": {
      "image/png": "[encoded data removed]",
      "text/plain": [
       "<Figure size 640x480 with 1 Axes>"
      ]
     },
     "metadata": {},
     "output_type": "display_data"
    }
   ],
   "source": [
    "plt.show()"
   ]
  },
  {
   "cell_type": "code",
   "execution_count": 37,
   "id": "8a8e2deb-2460-4a4b-b766-ba08f9e22c1d",
   "metadata": {},
   "outputs": [
    {
     "data": {
      "text/plain": [
       "<matplotlib.image.AxesImage at 0x190ef2bb390>"
      ]
     },
     "execution_count": 37,
     "metadata": {},
     "output_type": "execute_result"
    }
   ],
   "source": [
    "sample = trainDataList[1].split(\",\")\n",
    "imageArray = np.asarray(sample[1:], dtype='float').reshape((28, 28))\n",
    "plt.imshow(imageArray, cmap='RdPu', interpolation='None')"
   ]
  },
  {
   "cell_type": "code",
   "execution_count": 38,
   "id": "8be1f797-c0f0-4b65-96bc-86f5d2ead5d0",
   "metadata": {},
   "outputs": [
    {
     "data": {
      "image/png": "[encoded data removed]",
      "text/plain": [
       "<Figure size 640x480 with 1 Axes>"
      ]
     },
     "metadata": {},
     "output_type": "display_data"
    }
   ],
   "source": [
    "plt.show()"
   ]
  },
  {
   "cell_type": "markdown",
   "id": "bc4802d4-861a-45cd-96e1-aeaffc339645",
   "metadata": {},
   "source": [
    "<h3>Preparing Training Data</h3>"
   ]
  },
  {
   "cell_type": "code",
   "execution_count": 39,
   "id": "38a008b3-762a-45c2-b34f-bc64464651ee",
   "metadata": {},
   "outputs": [],
   "source": [
    "scaledInput = (np.asarray(sample[1:], dtype=\"float\") / 255.0 * 0.99) + 0.01"
   ]
  },
  {
   "cell_type": "code",
   "execution_count": 40,
   "id": "b64fcac6-7f07-4317-9267-65456d6fc9ed",
   "metadata": {},
   "outputs": [
    {
     "name": "stdout",
     "output_type": "stream",
     "text": [
      "[0.01       0.01       0.01       0.01       0.01       0.01\n",
      " 0.01       0.01       0.01       0.01       0.01       0.01\n",
      " 0.01       0.01       0.01       0.01       0.01       0.01\n",
      " 0.01       0.01       0.01       0.01       0.01       0.01\n",
      " 0.01       0.01       0.01       0.01       0.01       0.01\n",
      " 0.01       0.01       0.01       0.01       0.01       0.01\n",
      " 0.01       0.01       0.01       0.01       0.01       0.01\n",
      " 0.01       0.01       0.01       0.01       0.01       0.01\n",
      " 0.01       0.01       0.01       0.01       0.01       0.01\n",
      " 0.01       0.01       0.01       0.01       0.01       0.01\n",
      " 0.01       0.01       0.01       0.01       0.01       0.01\n",
      " 0.01       0.01       0.01       0.01       0.01       0.01\n",
      " 0.01       0.01       0.01       0.01       0.01       0.01\n",
      " 0.01       0.01       0.01       0.01       0.01       0.01\n",
      " 0.01       0.01       0.01       0.01       0.01       0.01\n",
      " 0.01       0.01       0.01       0.01       0.01       0.01\n",
      " 0.01       0.01       0.01       0.01       0.01       0.01\n",
      " 0.01       0.01       0.01       0.01       0.01       0.01\n",
      " 0.01       0.01       0.01       0.01       0.01       0.01\n",
      " 0.01       0.01       0.01       0.01       0.01       0.01\n",
      " 0.01       0.01       0.01       0.01       0.01       0.01\n",
      " 0.01       0.208      0.62729412 0.99223529 0.62729412 0.20411765\n",
      " 0.01       0.01       0.01       0.01       0.01       0.01\n",
      " 0.01       0.01       0.01       0.01       0.01       0.01\n",
      " 0.01       0.01       0.01       0.01       0.01       0.01\n",
      " 0.01       0.01       0.01       0.01       0.19635294 0.934\n",
      " 0.98835294 0.98835294 0.98835294 0.93011765 0.01       0.01\n",
      " 0.01       0.01       0.01       0.01       0.01       0.01\n",
      " 0.01       0.01       0.01       0.01       0.01       0.01\n",
      " 0.01       0.01       0.01       0.01       0.01       0.01\n",
      " 0.01       0.21964706 0.89129412 0.99223529 0.98835294 0.93788235\n",
      " 0.91458824 0.98835294 0.23129412 0.03329412 0.01       0.01\n",
      " 0.01       0.01       0.01       0.01       0.01       0.01\n",
      " 0.01       0.01       0.01       0.01       0.01       0.01\n",
      " 0.01       0.01       0.01       0.04882353 0.24294118 0.87964706\n",
      " 0.98835294 0.99223529 0.98835294 0.79423529 0.33611765 0.98835294\n",
      " 0.99223529 0.48364706 0.01       0.01       0.01       0.01\n",
      " 0.01       0.01       0.01       0.01       0.01       0.01\n",
      " 0.01       0.01       0.01       0.01       0.01       0.01\n",
      " 0.01       0.64282353 0.98835294 0.98835294 0.98835294 0.99223529\n",
      " 0.98835294 0.98835294 0.38270588 0.74376471 0.99223529 0.65835294\n",
      " 0.01       0.01       0.01       0.01       0.01       0.01\n",
      " 0.01       0.01       0.01       0.01       0.01       0.01\n",
      " 0.01       0.01       0.01       0.01       0.208      0.934\n",
      " 0.99223529 0.99223529 0.74764706 0.45258824 0.99223529 0.89517647\n",
      " 0.19247059 0.31670588 1.         0.66223529 0.01       0.01\n",
      " 0.01       0.01       0.01       0.01       0.01       0.01\n",
      " 0.01       0.01       0.01       0.01       0.01       0.01\n",
      " 0.01       0.19635294 0.934      0.98835294 0.98835294 0.70494118\n",
      " 0.05658824 0.30117647 0.47976471 0.09152941 0.01       0.01\n",
      " 0.99223529 0.95341176 0.20411765 0.01       0.01       0.01\n",
      " 0.01       0.01       0.01       0.01       0.01       0.01\n",
      " 0.01       0.01       0.01       0.01       0.15752941 0.65058824\n",
      " 0.99223529 0.91458824 0.81752941 0.33611765 0.01       0.01\n",
      " 0.01       0.01       0.01       0.01       0.99223529 0.98835294\n",
      " 0.65058824 0.01       0.01       0.01       0.01       0.01\n",
      " 0.01       0.01       0.01       0.01       0.01       0.01\n",
      " 0.01       0.03717647 0.70105882 0.98835294 0.94176471 0.28564706\n",
      " 0.08376471 0.11870588 0.01       0.01       0.01       0.01\n",
      " 0.01       0.01       0.99223529 0.98835294 0.76705882 0.01\n",
      " 0.01       0.01       0.01       0.01       0.01       0.01\n",
      " 0.01       0.01       0.01       0.01       0.01       0.23129412\n",
      " 0.98835294 0.98835294 0.25458824 0.01       0.01       0.01\n",
      " 0.01       0.01       0.01       0.01       0.01       0.01\n",
      " 0.99223529 0.98835294 0.76705882 0.01       0.01       0.01\n",
      " 0.01       0.01       0.01       0.01       0.01       0.01\n",
      " 0.01       0.01       0.01       0.77870588 0.99223529 0.74764706\n",
      " 0.01       0.01       0.01       0.01       0.01       0.01\n",
      " 0.01       0.01       0.01       0.01       1.         0.99223529\n",
      " 0.77094118 0.01       0.01       0.01       0.01       0.01\n",
      " 0.01       0.01       0.01       0.01       0.01       0.01\n",
      " 0.30505882 0.96505882 0.98835294 0.44482353 0.01       0.01\n",
      " 0.01       0.01       0.01       0.01       0.01       0.01\n",
      " 0.01       0.01       0.99223529 0.98835294 0.58458824 0.01\n",
      " 0.01       0.01       0.01       0.01       0.01       0.01\n",
      " 0.01       0.01       0.01       0.01       0.34       0.98835294\n",
      " 0.90294118 0.10705882 0.01       0.01       0.01       0.01\n",
      " 0.01       0.01       0.01       0.01       0.03717647 0.53411765\n",
      " 0.99223529 0.73211765 0.05658824 0.01       0.01       0.01\n",
      " 0.01       0.01       0.01       0.01       0.01       0.01\n",
      " 0.01       0.01       0.34       0.98835294 0.87576471 0.01\n",
      " 0.01       0.01       0.01       0.01       0.01       0.01\n",
      " 0.01       0.03717647 0.51858824 0.98835294 0.88352941 0.28564706\n",
      " 0.01       0.01       0.01       0.01       0.01       0.01\n",
      " 0.01       0.01       0.01       0.01       0.01       0.01\n",
      " 0.34       0.98835294 0.57294118 0.01       0.01       0.01\n",
      " 0.01       0.01       0.01       0.01       0.19635294 0.65058824\n",
      " 0.98835294 0.68164706 0.01       0.01       0.01       0.01\n",
      " 0.01       0.01       0.01       0.01       0.01       0.01\n",
      " 0.01       0.01       0.01       0.01       0.34388235 0.99223529\n",
      " 0.88352941 0.01       0.01       0.01       0.01       0.01\n",
      " 0.01       0.45258824 0.934      0.99223529 0.63894118 0.01\n",
      " 0.01       0.01       0.01       0.01       0.01       0.01\n",
      " 0.01       0.01       0.01       0.01       0.01       0.01\n",
      " 0.01       0.01       0.34       0.98835294 0.97670588 0.57682353\n",
      " 0.19635294 0.12258824 0.34       0.70105882 0.88352941 0.99223529\n",
      " 0.87576471 0.65835294 0.22741176 0.01       0.01       0.01\n",
      " 0.01       0.01       0.01       0.01       0.01       0.01\n",
      " 0.01       0.01       0.01       0.01       0.01       0.01\n",
      " 0.34       0.98835294 0.98835294 0.98835294 0.89905882 0.84470588\n",
      " 0.98835294 0.98835294 0.98835294 0.77094118 0.51470588 0.01\n",
      " 0.01       0.01       0.01       0.01       0.01       0.01\n",
      " 0.01       0.01       0.01       0.01       0.01       0.01\n",
      " 0.01       0.01       0.01       0.01       0.11870588 0.78258824\n",
      " 0.98835294 0.98835294 0.99223529 0.98835294 0.98835294 0.91458824\n",
      " 0.57294118 0.01       0.01       0.01       0.01       0.01\n",
      " 0.01       0.01       0.01       0.01       0.01       0.01\n",
      " 0.01       0.01       0.01       0.01       0.01       0.01\n",
      " 0.01       0.01       0.01       0.10705882 0.50694118 0.98835294\n",
      " 0.99223529 0.98835294 0.55741176 0.15364706 0.01       0.01\n",
      " 0.01       0.01       0.01       0.01       0.01       0.01\n",
      " 0.01       0.01       0.01       0.01       0.01       0.01\n",
      " 0.01       0.01       0.01       0.01       0.01       0.01\n",
      " 0.01       0.01       0.01       0.01       0.01       0.01\n",
      " 0.01       0.01       0.01       0.01       0.01       0.01\n",
      " 0.01       0.01       0.01       0.01       0.01       0.01\n",
      " 0.01       0.01       0.01       0.01       0.01       0.01\n",
      " 0.01       0.01       0.01       0.01       0.01       0.01\n",
      " 0.01       0.01       0.01       0.01       0.01       0.01\n",
      " 0.01       0.01       0.01       0.01       0.01       0.01\n",
      " 0.01       0.01       0.01       0.01       0.01       0.01\n",
      " 0.01       0.01       0.01       0.01       0.01       0.01\n",
      " 0.01       0.01       0.01       0.01       0.01       0.01\n",
      " 0.01       0.01       0.01       0.01       0.01       0.01\n",
      " 0.01       0.01       0.01       0.01       0.01       0.01\n",
      " 0.01       0.01       0.01       0.01       0.01       0.01\n",
      " 0.01       0.01       0.01       0.01       0.01       0.01\n",
      " 0.01       0.01       0.01       0.01       0.01       0.01\n",
      " 0.01       0.01       0.01       0.01       0.01       0.01\n",
      " 0.01       0.01       0.01       0.01       0.01       0.01\n",
      " 0.01       0.01       0.01       0.01      ]\n"
     ]
    }
   ],
   "source": [
    "print(scaledInput)"
   ]
  },
  {
   "cell_type": "code",
   "execution_count": 41,
   "id": "02da2252-3dba-4e93-a76a-089b2bf4a248",
   "metadata": {},
   "outputs": [],
   "source": [
    "# sample output nodes\n",
    "outputNodes = 10\n",
    "targets = np.zeros(outputNodes) + 0.01\n",
    "targets[int(sample[0])] = 0.99"
   ]
  },
  {
   "cell_type": "code",
   "execution_count": 42,
   "id": "31df2710-21c1-454b-8f43-d87f4ec4622a",
   "metadata": {},
   "outputs": [
    {
     "name": "stdout",
     "output_type": "stream",
     "text": [
      "[0.99 0.01 0.01 0.01 0.01 0.01 0.01 0.01 0.01 0.01]\n"
     ]
    }
   ],
   "source": [
    "print(targets)"
   ]
  },
  {
   "cell_type": "markdown",
   "id": "319d1653-2882-4ab2-bd23-716610b8fab5",
   "metadata": {},
   "source": [
    "<h3>Setting Up Training</h3>"
   ]
  },
  {
   "cell_type": "code",
   "execution_count": 43,
   "id": "6c467a05-c3df-4014-9467-c5c4c0eab10a",
   "metadata": {},
   "outputs": [],
   "source": [
    "# class definition\n",
    "class myNeuralNetwork:\n",
    "\n",
    "    # initialisation\n",
    "    def __init__(self, inputNodes, hiddenNodes, outputNodes, learningRate):\n",
    "        # set number of nodes per layer\n",
    "        self.inputNodes = inputNodes\n",
    "        self.hiddenNodes = hiddenNodes\n",
    "        self.outputNodes = outputNodes\n",
    "\n",
    "        # set learning rate\n",
    "        self.learningRate = learningRate\n",
    "\n",
    "        # link weight matrices between nodes\n",
    "        self.weightsInputToHidden = np.random.normal(0.0, pow(inputNodes, -0.5), size=(hiddenNodes, inputNodes))\n",
    "        self.weightsHiddenToOutput = np.random.normal(0.0, pow(hiddenNodes, -0.5), size=(outputNodes, hiddenNodes))\n",
    "\n",
    "        # sigmoid function\n",
    "        self.activationFunction = lambda x: scipy.special.expit(x)\n",
    "\n",
    "        pass\n",
    "\n",
    "    # training\n",
    "    def train(self, inputsList, targetsList):\n",
    "        # convert inputs and targets list to 2D matrices\n",
    "        inputs = np.array(inputsList, ndmin = 2).T\n",
    "        targets = np.array(targetsList, ndmin = 2).T\n",
    "\n",
    "        # compute signals into hidden layer\n",
    "        hiddenInputs = np.dot(self.weightsInputToHidden, inputs)\n",
    "        # compute signals from hidden layer\n",
    "        hiddenOutputs = self.activationFunction(hiddenInputs)\n",
    "\n",
    "        # compute signals into output layer\n",
    "        finalInputs = np.dot(self.weightsHiddenToOutput, hiddenOutputs)\n",
    "        # compute signals from output layer\n",
    "        finalOutputs = self.activationFunction(finalInputs)\n",
    "\n",
    "        # output layer error\n",
    "        outputErrors = targets - finalOutputs\n",
    "        # hidden layer error\n",
    "        hiddenErrors = np.dot(self.weightsHiddenToOutput.T, outputErrors)\n",
    "\n",
    "        # update weights between hidden and output layers\n",
    "        self.weightsHiddenToOutput += self.learningRate * np.dot((outputErrors * finalOutputs * (1.0 - finalOutputs)), hiddenOutputs.T)\n",
    "        # update weights between input and hidden layers\n",
    "        self.weightsInputToHidden += self.learningRate * np.dot((hiddenErrors * hiddenOutputs * (1.0 - hiddenOutputs)), inputs.T)\n",
    "        \n",
    "        pass\n",
    "\n",
    "    # querying\n",
    "    def query(self, inputsList):\n",
    "        # convert inputs to 2D matrix\n",
    "        inputs = np.array(inputsList, ndmin = 2).T\n",
    "        \n",
    "        # compute signals into hidden layer\n",
    "        hiddenInputs = np.dot(self.weightsInputToHidden, inputs)\n",
    "        # compute signals from hidden layer\n",
    "        hiddenOutputs = self.activationFunction(hiddenInputs)\n",
    "\n",
    "        # compute signals into output layer\n",
    "        finalInputs = np.dot(self.weightsHiddenToOutput, hiddenOutputs)\n",
    "        # compute signals from output layer\n",
    "        finalOutputs = self.activationFunction(finalInputs)\n",
    "        \n",
    "        return finalOutputs"
   ]
  },
  {
   "cell_type": "code",
   "execution_count": 44,
   "id": "f4c84e6f-8da3-400d-8126-367d58802e29",
   "metadata": {},
   "outputs": [],
   "source": [
    "# set number of nodes per layer\n",
    "inputNodes = 784\n",
    "hiddenNodes = 100\n",
    "outputNodes = 10"
   ]
  },
  {
   "cell_type": "code",
   "execution_count": 45,
   "id": "cce0ce43-7d45-4041-9891-5bbcd3b3af3c",
   "metadata": {},
   "outputs": [],
   "source": [
    "# set learning rate\n",
    "learningRate = 0.3"
   ]
  },
  {
   "cell_type": "code",
   "execution_count": 46,
   "id": "cc553b0b-5e31-4fc5-80f2-fb780a60397b",
   "metadata": {},
   "outputs": [],
   "source": [
    "# create instance of neural network\n",
    "myNetwork = myNeuralNetwork(inputNodes, hiddenNodes, outputNodes, learningRate)"
   ]
  },
  {
   "cell_type": "code",
   "execution_count": 47,
   "id": "44a694e5-50a8-4142-b10c-97378823493f",
   "metadata": {},
   "outputs": [],
   "source": [
    "# read the training data file\n",
    "trainData = open(\"mnist_dataset/mnist_train_100.csv\", 'r')\n",
    "trainDataList = trainData.readlines()\n",
    "trainData.close()"
   ]
  },
  {
   "cell_type": "code",
   "execution_count": 48,
   "id": "50c96e07-b9fc-4621-9f6d-e62ae9173afc",
   "metadata": {},
   "outputs": [],
   "source": [
    "# begin training the network\n",
    "for n in trainDataList:\n",
    "    # split values\n",
    "    trainInput = n.split(\",\")\n",
    "    \n",
    "    # scale and shift input\n",
    "    inputs = (np.asarray(trainInput[1:], dtype=\"float\") / 255.0 * 0.99) + 0.01\n",
    "    \n",
    "    # create target output values\n",
    "    targets = np.zeros(outputNodes) + 0.01\n",
    "    \n",
    "    # target label\n",
    "    targets[int(trainInput[0])] = 0.99\n",
    "    \n",
    "    # train\n",
    "    myNetwork.train(inputs, targets)\n",
    "\n",
    "    pass"
   ]
  },
  {
   "cell_type": "markdown",
   "id": "d8287a42-d69e-4d0a-a46f-a1940632618d",
   "metadata": {},
   "source": [
    "<h3>Reading Test Data</h3>"
   ]
  },
  {
   "cell_type": "code",
   "execution_count": 49,
   "id": "10db8ead-6864-49cd-801d-2f0ee916ff63",
   "metadata": {},
   "outputs": [],
   "source": [
    "# read the test data file\n",
    "testData = open(\"mnist_dataset/mnist_test_10.csv\", 'r')\n",
    "testDataList = testData.readlines()\n",
    "testData.close()"
   ]
  },
  {
   "cell_type": "markdown",
   "id": "5afb82cd-f789-469b-a9db-a8153a5dee4e",
   "metadata": {},
   "source": [
    "<h2> 🔌Testing The Network</h2>"
   ]
  },
  {
   "cell_type": "code",
   "execution_count": 50,
   "id": "afef6751-ba42-4b70-866d-2b64961d649e",
   "metadata": {},
   "outputs": [
    {
     "name": "stdout",
     "output_type": "stream",
     "text": [
      "7\n"
     ]
    }
   ],
   "source": [
    "# view first record from test data\n",
    "testInput = testDataList[0].split(\",\")\n",
    "# print view\n",
    "print(testInput[0])"
   ]
  },
  {
   "cell_type": "code",
   "execution_count": 51,
   "id": "1f7c6c49-8500-4713-81d7-aa12c54fea2c",
   "metadata": {},
   "outputs": [
    {
     "data": {
      "text/plain": [
       "<matplotlib.image.AxesImage at 0x190eeae5950>"
      ]
     },
     "execution_count": 51,
     "metadata": {},
     "output_type": "execute_result"
    }
   ],
   "source": [
    "imageArray = np.asarray(testInput[1:], dtype='float').reshape((28, 28))\n",
    "plt.imshow(imageArray, cmap='RdPu', interpolation='None')"
   ]
  },
  {
   "cell_type": "code",
   "execution_count": 52,
   "id": "14afd856-ed07-47bf-b76e-65ed60e364d7",
   "metadata": {},
   "outputs": [
    {
     "data": {
      "image/png": "[encoded data removed]",
      "text/plain": [
       "<Figure size 640x480 with 1 Axes>"
      ]
     },
     "metadata": {},
     "output_type": "display_data"
    }
   ],
   "source": [
    "plt.show()"
   ]
  },
  {
   "cell_type": "code",
   "execution_count": 53,
   "id": "a7c0832c-e955-4ebc-bbb4-78480e20e944",
   "metadata": {},
   "outputs": [
    {
     "data": {
      "text/plain": [
       "array([[0.09555038],\n",
       "       [0.11105328],\n",
       "       [0.03888549],\n",
       "       [0.1532874 ],\n",
       "       [0.18142394],\n",
       "       [0.04723236],\n",
       "       [0.02489026],\n",
       "       [0.48299725],\n",
       "       [0.12027653],\n",
       "       [0.07100127]])"
      ]
     },
     "execution_count": 53,
     "metadata": {},
     "output_type": "execute_result"
    }
   ],
   "source": [
    "myNetwork.query((np.asarray(testInput[1:], dtype='float') / 255.0 * 0.99) + 0.01)"
   ]
  },
  {
   "cell_type": "markdown",
   "id": "f06ea0bf-a359-4cfd-87a2-a897ac6f6251",
   "metadata": {},
   "source": [
    "<h3>Setup Scoring</h3>"
   ]
  },
  {
   "cell_type": "code",
   "execution_count": 54,
   "id": "fb130d83-cb44-4a01-a567-55fe7aaa7db8",
   "metadata": {},
   "outputs": [],
   "source": [
    "# define array holding scores on perfomance\n",
    "score = []"
   ]
  },
  {
   "cell_type": "code",
   "execution_count": 55,
   "id": "080fa3e7-575d-48c7-a14c-8b27ca78f66c",
   "metadata": {},
   "outputs": [
    {
     "name": "stdout",
     "output_type": "stream",
     "text": [
      "Correct label: 7\n",
      "Predicted label: 7 \n",
      "\n",
      "Correct label: 2\n",
      "Predicted label: 3 \n",
      "\n",
      "Correct label: 1\n",
      "Predicted label: 1 \n",
      "\n",
      "Correct label: 0\n",
      "Predicted label: 0 \n",
      "\n",
      "Correct label: 4\n",
      "Predicted label: 4 \n",
      "\n",
      "Correct label: 1\n",
      "Predicted label: 1 \n",
      "\n",
      "Correct label: 4\n",
      "Predicted label: 4 \n",
      "\n",
      "Correct label: 9\n",
      "Predicted label: 3 \n",
      "\n",
      "Correct label: 5\n",
      "Predicted label: 1 \n",
      "\n",
      "Correct label: 9\n",
      "Predicted label: 7 \n",
      "\n"
     ]
    }
   ],
   "source": [
    "# loop through records in the test data\n",
    "for n in testDataList:\n",
    "    # split values\n",
    "    testInput = n.split(\",\")\n",
    "\n",
    "    # correct answer is first value\n",
    "    correct = int(testInput[0])\n",
    "    print(\"Correct label:\", correct)\n",
    "\n",
    "    # scale and shift inputs\n",
    "    inputs = (np.asarray(testInput[1:], dtype=\"float\") / 255.0 * 0.99) + 0.01\n",
    "\n",
    "    # query network\n",
    "    outputs = myNetwork.query(inputs)\n",
    "\n",
    "    # index of highest value corresponds to label\n",
    "    label = np.argmax(outputs)\n",
    "    print(\"Predicted label:\", label, \"\\n\")\n",
    "\n",
    "    # append values to score array\n",
    "    # if correct, add 1 to the array\n",
    "    if (label == correct):\n",
    "        score.append(1)\n",
    "    # if incorrect, add 0\n",
    "    else:\n",
    "        score.append(0)\n",
    "\n",
    "    pass"
   ]
  },
  {
   "cell_type": "code",
   "execution_count": 56,
   "id": "b238ec11-6f8a-4cc8-a38b-f6c29757f7cd",
   "metadata": {},
   "outputs": [
    {
     "name": "stdout",
     "output_type": "stream",
     "text": [
      "[1, 0, 1, 1, 1, 1, 1, 0, 0, 0]\n"
     ]
    }
   ],
   "source": [
    "print(score)"
   ]
  },
  {
   "cell_type": "markdown",
   "id": "d30f812e-77d5-4775-af31-32e8e6fc89d1",
   "metadata": {},
   "source": [
    "<h3>Compute Performance</h3>"
   ]
  },
  {
   "cell_type": "code",
   "execution_count": 57,
   "id": "e952454d-3bac-4868-afd6-e7039d4a1cec",
   "metadata": {},
   "outputs": [],
   "source": [
    "# calculate performance of model\n",
    "scoreArray = np.asarray(score)"
   ]
  },
  {
   "cell_type": "code",
   "execution_count": 58,
   "id": "a23b7e69-e282-456c-858a-f390e68d60a3",
   "metadata": {},
   "outputs": [
    {
     "name": "stdout",
     "output_type": "stream",
     "text": [
      "Performance: 60.0 %\n"
     ]
    }
   ],
   "source": [
    "print(\"Performance:\", scoreArray.sum() / scoreArray.size * 100, \"%\")"
   ]
  },
  {
   "cell_type": "markdown",
   "id": "4c7be006-2dd5-4bdf-84e8-3761577abe41",
   "metadata": {},
   "source": [
    "<h2>🗂 Training with the Full MNIST Dataset</h2>"
   ]
  },
  {
   "cell_type": "code",
   "execution_count": 67,
   "id": "3242b0dd-261d-4b16-a70c-9285c8daf8c1",
   "metadata": {},
   "outputs": [],
   "source": [
    "# class definition\n",
    "class myNeuralNetwork:\n",
    "\n",
    "    # initialisation\n",
    "    def __init__(self, inputNodes, hiddenNodes, outputNodes, learningRate):\n",
    "        # set number of nodes per layer\n",
    "        self.inputNodes = inputNodes\n",
    "        self.hiddenNodes = hiddenNodes\n",
    "        self.outputNodes = outputNodes\n",
    "\n",
    "        # set learning rate\n",
    "        self.learningRate = learningRate\n",
    "\n",
    "        # link weight matrices between nodes\n",
    "        self.weightsInputToHidden = np.random.normal(0.0, pow(inputNodes, -0.5), size=(hiddenNodes, inputNodes))\n",
    "        self.weightsHiddenToOutput = np.random.normal(0.0, pow(hiddenNodes, -0.5), size=(outputNodes, hiddenNodes))\n",
    "\n",
    "        # sigmoid function\n",
    "        self.activationFunction = lambda x: scipy.special.expit(x)\n",
    "\n",
    "        pass\n",
    "\n",
    "    # training\n",
    "    def train(self, inputsList, targetsList):\n",
    "        # convert inputs and targets list to 2D matrices\n",
    "        inputs = np.array(inputsList, ndmin = 2).T\n",
    "        targets = np.array(targetsList, ndmin = 2).T\n",
    "\n",
    "        # compute signals into hidden layer\n",
    "        hiddenInputs = np.dot(self.weightsInputToHidden, inputs)\n",
    "        # compute signals from hidden layer\n",
    "        hiddenOutputs = self.activationFunction(hiddenInputs)\n",
    "\n",
    "        # compute signals into output layer\n",
    "        finalInputs = np.dot(self.weightsHiddenToOutput, hiddenOutputs)\n",
    "        # compute signals from output layer\n",
    "        finalOutputs = self.activationFunction(finalInputs)\n",
    "\n",
    "        # output layer error\n",
    "        outputErrors = targets - finalOutputs\n",
    "        # hidden layer error\n",
    "        hiddenErrors = np.dot(self.weightsHiddenToOutput.T, outputErrors)\n",
    "\n",
    "        # update weights between hidden and output layers\n",
    "        self.weightsHiddenToOutput += self.learningRate * np.dot((outputErrors * finalOutputs * (1.0 - finalOutputs)), hiddenOutputs.T)\n",
    "        # update weights between input and hidden layers\n",
    "        self.weightsInputToHidden += self.learningRate * np.dot((hiddenErrors * hiddenOutputs * (1.0 - hiddenOutputs)), inputs.T)\n",
    "        \n",
    "        pass\n",
    "\n",
    "    # querying\n",
    "    def query(self, inputsList):\n",
    "        # convert inputs to 2D matrix\n",
    "        inputs = np.array(inputsList, ndmin = 2).T\n",
    "        \n",
    "        # compute signals into hidden layer\n",
    "        hiddenInputs = np.dot(self.weightsInputToHidden, inputs)\n",
    "        # compute signals from hidden layer\n",
    "        hiddenOutputs = self.activationFunction(hiddenInputs)\n",
    "\n",
    "        # compute signals into output layer\n",
    "        finalInputs = np.dot(self.weightsHiddenToOutput, hiddenOutputs)\n",
    "        # compute signals from output layer\n",
    "        finalOutputs = self.activationFunction(finalInputs)\n",
    "        \n",
    "        return finalOutputs"
   ]
  },
  {
   "cell_type": "code",
   "execution_count": 60,
   "id": "5fcf521c-5333-40f2-84cb-c762918643c4",
   "metadata": {},
   "outputs": [],
   "source": [
    "# set number of nodes per layer\n",
    "inputNodes = 784\n",
    "hiddenNodes = 100\n",
    "outputNodes = 10\n",
    "\n",
    "# set learning rate\n",
    "learningRate = 0.3"
   ]
  },
  {
   "cell_type": "code",
   "execution_count": 61,
   "id": "9486c4e8-1605-4225-9175-ac7ac3ea0445",
   "metadata": {},
   "outputs": [],
   "source": [
    "# create instance of neural network\n",
    "myNetwork = myNeuralNetwork(inputNodes, hiddenNodes, outputNodes, learningRate)"
   ]
  },
  {
   "cell_type": "code",
   "execution_count": 68,
   "id": "5a1b05ed-a1df-48f5-90ea-8a6d6b96d873",
   "metadata": {},
   "outputs": [],
   "source": [
    "# open the training data file\n",
    "with open(\"mnist_dataset/mnist_train.csv\", 'r') as trainData:\n",
    "    next(trainData)  # skip header\n",
    "    \n",
    "    # read only the first 10,000 lines\n",
    "    trainDataList = [line for _, line in zip(range(10000), trainData)]"
   ]
  },
  {
   "cell_type": "code",
   "execution_count": 69,
   "id": "2596cb01-81fb-406f-86e9-3551bce10c13",
   "metadata": {},
   "outputs": [],
   "source": [
    "# open the training data file\n",
    "with open(\"mnist_dataset/mnist_test.csv\", 'r') as testData:\n",
    "    next(testData)  # skip header\n",
    "    \n",
    "    # read only the first 1,000 lines\n",
    "    testDataList = [line for _, line in zip(range(1000), testData)]"
   ]
  },
  {
   "cell_type": "code",
   "execution_count": 64,
   "id": "e40ef378-3d0d-40f0-abdc-5043ec3775d6",
   "metadata": {},
   "outputs": [],
   "source": [
    "# begin training the network\n",
    "for n in trainDataList:\n",
    "    # split values\n",
    "    trainInput = n.split(\",\")\n",
    "    \n",
    "    # scale and shift input\n",
    "    inputs = (np.asarray(trainInput[1:], dtype=\"float\") / 255.0 * 0.99) + 0.01\n",
    "    \n",
    "    # create target output values\n",
    "    targets = np.zeros(outputNodes) + 0.01\n",
    "    \n",
    "    # target label\n",
    "    targets[int(trainInput[0])] = 0.99\n",
    "    \n",
    "    # train\n",
    "    myNetwork.train(inputs, targets)\n",
    "\n",
    "    pass"
   ]
  },
  {
   "cell_type": "code",
   "execution_count": 65,
   "id": "47e41500-2aaa-407e-b8c4-aaa17f4193e8",
   "metadata": {},
   "outputs": [],
   "source": [
    "# define array holding scores on perfomance\n",
    "score = []"
   ]
  },
  {
   "cell_type": "code",
   "execution_count": 66,
   "id": "f5b841bd-e007-4605-8654-24476fd2171a",
   "metadata": {
    "scrolled": true
   },
   "outputs": [],
   "source": [
    "# loop through records in the test data\n",
    "for n in testDataList:\n",
    "    # split values\n",
    "    testInput = n.split(\",\")\n",
    "\n",
    "    # correct answer is first value\n",
    "    correct = int(testInput[0])\n",
    "\n",
    "    # scale and shift inputs\n",
    "    inputs = (np.asarray(testInput[1:], dtype=\"float\") / 255.0 * 0.99) + 0.01\n",
    "\n",
    "    # query network\n",
    "    outputs = myNetwork.query(inputs)\n",
    "\n",
    "    # index of highest value corresponds to label\n",
    "    label = np.argmax(outputs)\n",
    "\n",
    "    # append values to score array\n",
    "    # if correct, add 1 to the array\n",
    "    if (label == correct):\n",
    "        score.append(1)\n",
    "    # if incorrect, add 0\n",
    "    else:\n",
    "        score.append(0)\n",
    "\n",
    "    pass"
   ]
  },
  {
   "cell_type": "code",
   "execution_count": 67,
   "id": "aa3c5ba1-5687-4ed0-a9b8-c4f2f569a6d9",
   "metadata": {},
   "outputs": [],
   "source": [
    "# calculate performance of model\n",
    "scoreArray = np.asarray(score)"
   ]
  },
  {
   "cell_type": "code",
   "execution_count": 68,
   "id": "2c96da44-56d4-4d6c-a5d6-9e7be4afdc31",
   "metadata": {},
   "outputs": [
    {
     "name": "stdout",
     "output_type": "stream",
     "text": [
      "Performance: 92.0 %\n"
     ]
    }
   ],
   "source": [
    "print(\"Performance:\", scoreArray.sum() / scoreArray.size * 100, \"%\")"
   ]
  },
  {
   "cell_type": "markdown",
   "id": "01580e47-4c46-430a-9c7b-cb649a22b8d7",
   "metadata": {},
   "source": [
    "<h2>🧮 Tweaking the Network.</h2>"
   ]
  },
  {
   "cell_type": "markdown",
   "id": "f8136dc4-37ee-4a6c-9684-2e3966a91d22",
   "metadata": {},
   "source": [
    "<h3>Multiple Runs</h3>"
   ]
  },
  {
   "cell_type": "code",
   "execution_count": 69,
   "id": "c58e6f63-8e46-4648-b8c4-1b02c4ed45e1",
   "metadata": {},
   "outputs": [],
   "source": [
    "# set the epochs\n",
    "epochs = 2"
   ]
  },
  {
   "cell_type": "code",
   "execution_count": 70,
   "id": "a7c0dc4f-9773-4962-9084-2191fcc9fb6d",
   "metadata": {},
   "outputs": [],
   "source": [
    "for i in range(epochs):\n",
    "    \n",
    "    # begin training the network\n",
    "    for n in trainDataList:\n",
    "        # split values\n",
    "        trainInput = n.split(\",\")\n",
    "        \n",
    "        # scale and shift input\n",
    "        inputs = (np.asarray(trainInput[1:], dtype=\"float\") / 255.0 * 0.99) + 0.01\n",
    "        \n",
    "        # create target output values\n",
    "        targets = np.zeros(outputNodes) + 0.01\n",
    "        \n",
    "        # target label\n",
    "        targets[int(trainInput[0])] = 0.99\n",
    "        \n",
    "        # train\n",
    "        myNetwork.train(inputs, targets)\n",
    "    \n",
    "        pass\n",
    "        \n",
    "    pass"
   ]
  },
  {
   "cell_type": "code",
   "execution_count": 71,
   "id": "10455395-d0ac-40c3-9686-2c6a8efabda6",
   "metadata": {},
   "outputs": [],
   "source": [
    "# define array holding scores on perfomance\n",
    "score = []"
   ]
  },
  {
   "cell_type": "code",
   "execution_count": 72,
   "id": "392cdf73-1b58-4516-aeed-1bc893819ace",
   "metadata": {
    "scrolled": true
   },
   "outputs": [],
   "source": [
    "# loop through records in the test data\n",
    "for n in testDataList:\n",
    "    # split values\n",
    "    testInput = n.split(\",\")\n",
    "\n",
    "    # correct answer is first value\n",
    "    correct = int(testInput[0])\n",
    "\n",
    "    # scale and shift inputs\n",
    "    inputs = (np.asarray(testInput[1:], dtype=\"float\") / 255.0 * 0.99) + 0.01\n",
    "\n",
    "    # query network\n",
    "    outputs = myNetwork.query(inputs)\n",
    "\n",
    "    # index of highest value corresponds to label\n",
    "    label = np.argmax(outputs)\n",
    "\n",
    "    # append values to score array\n",
    "    # if correct, add 1 to the array\n",
    "    if (label == correct):\n",
    "        score.append(1)\n",
    "    # if incorrect, add 0\n",
    "    else:\n",
    "        score.append(0)\n",
    "\n",
    "    pass"
   ]
  },
  {
   "cell_type": "code",
   "execution_count": 73,
   "id": "f78b2c11-d032-43f8-8901-94dae503dfc5",
   "metadata": {},
   "outputs": [
    {
     "name": "stdout",
     "output_type": "stream",
     "text": [
      "Performance: 92.9 %\n"
     ]
    }
   ],
   "source": [
    "# calculate performance of model\n",
    "scoreArray = np.asarray(score)\n",
    "print(\"Performance:\", scoreArray.sum() / scoreArray.size * 100, \"%\")"
   ]
  },
  {
   "cell_type": "markdown",
   "id": "26f1a41d-83b4-4cd3-9215-5f0695c2c1a4",
   "metadata": {},
   "source": [
    "<h4>Finding the Most Optimal No. of Epochs</h4>"
   ]
  },
  {
   "cell_type": "code",
   "execution_count": 74,
   "id": "a2096f33-7ed0-425d-8806-1206044078f7",
   "metadata": {},
   "outputs": [],
   "source": [
    "# set the epochs\n",
    "epochs = 10"
   ]
  },
  {
   "cell_type": "code",
   "execution_count": 75,
   "id": "315d4205-b0d1-45fe-9ec0-67a6d96978a0",
   "metadata": {},
   "outputs": [],
   "source": [
    "ePerformance = []"
   ]
  },
  {
   "cell_type": "code",
   "execution_count": 76,
   "id": "9c523b67-11af-4fcc-8836-cf9f3e3b4248",
   "metadata": {},
   "outputs": [],
   "source": [
    "for i in range(epochs):\n",
    "    \n",
    "    # begin training the network\n",
    "    for n in trainDataList:\n",
    "        # split values\n",
    "        trainInput = n.split(\",\")\n",
    "        \n",
    "        # scale and shift input\n",
    "        inputs = (np.asarray(trainInput[1:], dtype=\"float\") / 255.0 * 0.99) + 0.01\n",
    "        \n",
    "        # create target output values\n",
    "        targets = np.zeros(outputNodes) + 0.01\n",
    "        \n",
    "        # target label\n",
    "        targets[int(trainInput[0])] = 0.99\n",
    "        \n",
    "        # train\n",
    "        myNetwork.train(inputs, targets)\n",
    "    \n",
    "    # define array holding scores on perfomance\n",
    "    score = []\n",
    "\n",
    "    # loop through records in the test data\n",
    "    for n in testDataList:\n",
    "        # split values\n",
    "        testInput = n.split(\",\")\n",
    "    \n",
    "        # correct answer is first value\n",
    "        correct = int(testInput[0])\n",
    "    \n",
    "        # scale and shift inputs\n",
    "        inputs = (np.asarray(testInput[1:], dtype=\"float\") / 255.0 * 0.99) + 0.01\n",
    "    \n",
    "        # query network\n",
    "        outputs = myNetwork.query(inputs)\n",
    "    \n",
    "        # index of highest value corresponds to label\n",
    "        label = np.argmax(outputs)\n",
    "    \n",
    "        # append values to score array\n",
    "        # if correct, add 1 to the array\n",
    "        if (label == correct):\n",
    "            score.append(1)\n",
    "        # if incorrect, add 0\n",
    "        else:\n",
    "            score.append(0)\n",
    "\n",
    "        pass\n",
    "        \n",
    "    # calculate performance of model\n",
    "    scoreArray = np.asarray(score)\n",
    "    # append performance to array\n",
    "    ePerformance.append(format(scoreArray.sum() / scoreArray.size * 100, '.2f'))\n",
    "        \n",
    "    pass"
   ]
  },
  {
   "cell_type": "code",
   "execution_count": 77,
   "id": "757369f3-f10b-4a18-ae6c-ab0013e50985",
   "metadata": {},
   "outputs": [
    {
     "name": "stdout",
     "output_type": "stream",
     "text": [
      "94.00\n",
      "94.10\n",
      "93.90\n",
      "92.90\n",
      "93.90\n",
      "93.80\n",
      "94.30\n",
      "94.20\n",
      "94.10\n",
      "93.60\n"
     ]
    }
   ],
   "source": [
    "for p in ePerformance:\n",
    "    print(p)"
   ]
  },
  {
   "cell_type": "markdown",
   "id": "4ee5a4c7-9a4f-45ed-9ed4-a6c8e06947f0",
   "metadata": {},
   "source": [
    "<h4>Plotting the Performance</h4>"
   ]
  },
  {
   "cell_type": "code",
   "execution_count": 132,
   "id": "3f19869c-9390-4823-b053-a069ee67cb15",
   "metadata": {},
   "outputs": [
    {
     "data": {
      "image/png": "[encoded data removed]",
      "text/plain": [
       "<Figure size 900x400 with 1 Axes>"
      ]
     },
     "metadata": {},
     "output_type": "display_data"
    }
   ],
   "source": [
    "# data for plotting\n",
    "x = [1, 2, 3, 4, 5, 6, 7, 8, 9, 10]\n",
    "y = [94.00, 94.10, 93.90, 92.90, 93.90, 93.80, 94.30, 94.20, 94.10, 93.60]\n",
    "\n",
    "plt.figure(figsize=(9,4))\n",
    "\n",
    "plt.plot(x, y, marker='o', linestyle='-', color = 'm', markersize = 8, markerfacecolor = 'w')\n",
    "plt.style.use(\"fivethirtyeight\")\n",
    "\n",
    "plt.ylim(90, 100)\n",
    "\n",
    "# get highest value\n",
    "max_val = max(y)\n",
    "max_index = y.index(max_val)\n",
    "max_x = x[max_index]\n",
    "\n",
    "# highlight best value\n",
    "plt.annotate(\n",
    "    f'Highest: {max_val}%',\n",
    "    xy=(max_x, max_val + 0.2),         \n",
    "    xytext=(max_x, max_val + 1.5), \n",
    "    arrowprops=dict(facecolor='b', shrink=0.05, width=2, headwidth=8),\n",
    "    ha='center'\n",
    ")\n",
    "\n",
    "plt.xlabel(\"Epochs\")  \n",
    "plt.ylabel(\"Performance (%)\")  \n",
    "plt.title(\"Model Performance Over Epochs\")\n",
    "\n",
    "plt.show()"
   ]
  },
  {
   "cell_type": "markdown",
   "id": "198effa0-6093-4ed4-b5f9-394ba4967955",
   "metadata": {},
   "source": [
    "<h3>Adjusting the Learning Rate</h3>"
   ]
  },
  {
   "cell_type": "code",
   "execution_count": 78,
   "id": "cba4362e-ca5d-4da8-b87f-2a70c7de985f",
   "metadata": {},
   "outputs": [],
   "source": [
    "# set number of nodes per layer\n",
    "inputNodes = 784\n",
    "hiddenNodes = 100\n",
    "outputNodes = 10"
   ]
  },
  {
   "cell_type": "code",
   "execution_count": 79,
   "id": "3715b72f-0d02-4ae4-bb80-322eb0b5606d",
   "metadata": {},
   "outputs": [],
   "source": [
    "# set learning rate\n",
    "learningRate = 0.2"
   ]
  },
  {
   "cell_type": "code",
   "execution_count": 80,
   "id": "ac164301-e075-4b36-ac19-eb7daf22509e",
   "metadata": {},
   "outputs": [],
   "source": [
    "# create instance of neural network\n",
    "myNetwork = myNeuralNetwork(inputNodes, hiddenNodes, outputNodes, learningRate)"
   ]
  },
  {
   "cell_type": "code",
   "execution_count": 81,
   "id": "5359e8d8-e69b-4448-9dc5-bd1c9e4ab66b",
   "metadata": {},
   "outputs": [],
   "source": [
    "epochs = 2\n",
    "\n",
    "for i in range(epochs):\n",
    "    \n",
    "    # begin training the network\n",
    "    for n in trainDataList:\n",
    "        # split values\n",
    "        trainInput = n.split(\",\")\n",
    "        \n",
    "        # scale and shift input\n",
    "        inputs = (np.asarray(trainInput[1:], dtype=\"float\") / 255.0 * 0.99) + 0.01\n",
    "        \n",
    "        # create target output values\n",
    "        targets = np.zeros(outputNodes) + 0.01\n",
    "        \n",
    "        # target label\n",
    "        targets[int(trainInput[0])] = 0.99\n",
    "        \n",
    "        # train\n",
    "        myNetwork.train(inputs, targets)\n",
    "    \n",
    "        pass\n",
    "        \n",
    "    pass"
   ]
  },
  {
   "cell_type": "code",
   "execution_count": 82,
   "id": "df5758b5-5735-4670-9ab1-c54c50694ec1",
   "metadata": {
    "scrolled": true
   },
   "outputs": [],
   "source": [
    "# define array holding scores on perfomance\n",
    "score = []\n",
    "\n",
    "# loop through records in the test data\n",
    "for n in testDataList:\n",
    "    # split values\n",
    "    testInput = n.split(\",\")\n",
    "\n",
    "    # correct answer is first value\n",
    "    correct = int(testInput[0])\n",
    "\n",
    "    # scale and shift inputs\n",
    "    inputs = (np.asarray(testInput[1:], dtype=\"float\") / 255.0 * 0.99) + 0.01\n",
    "\n",
    "    # query network\n",
    "    outputs = myNetwork.query(inputs)\n",
    "\n",
    "    # index of highest value corresponds to label\n",
    "    label = np.argmax(outputs)\n",
    "\n",
    "    # append values to score array\n",
    "    # if correct, add 1 to the array\n",
    "    if (label == correct):\n",
    "        score.append(1)\n",
    "    # if incorrect, add 0\n",
    "    else:\n",
    "        score.append(0)\n",
    "\n",
    "    pass"
   ]
  },
  {
   "cell_type": "code",
   "execution_count": 83,
   "id": "91db04af-21c1-4601-9d0a-0fb596c7add3",
   "metadata": {},
   "outputs": [
    {
     "name": "stdout",
     "output_type": "stream",
     "text": [
      "Performance: 92.60000000000001 %\n"
     ]
    }
   ],
   "source": [
    "# calculate performance of model\n",
    "scoreArray = np.asarray(score)\n",
    "print(\"Performance:\", scoreArray.sum() / scoreArray.size * 100, \"%\")"
   ]
  },
  {
   "cell_type": "markdown",
   "id": "663ec0e5-96fb-4910-b29b-753f6429c63f",
   "metadata": {},
   "source": [
    "<h4>Finding the Most Optimal Learning Rate</h4>"
   ]
  },
  {
   "cell_type": "code",
   "execution_count": 84,
   "id": "50583c26-e47c-4e62-b30c-c633ff9459e3",
   "metadata": {},
   "outputs": [],
   "source": [
    "# set number of nodes per layer\n",
    "inputNodes = 784\n",
    "hiddenNodes = 100\n",
    "outputNodes = 10"
   ]
  },
  {
   "cell_type": "code",
   "execution_count": 85,
   "id": "f9428e90-4095-4dd5-a6c3-a6dcb18eafe2",
   "metadata": {},
   "outputs": [],
   "source": [
    "# test different learning rates\n",
    "learningRates = [0.1, 0.2, 0.3, 0.4, 0.5, 0.6, 0.7, 0.8, 0.9, 1.0]"
   ]
  },
  {
   "cell_type": "code",
   "execution_count": 86,
   "id": "c7485072-ba9c-4ef4-a922-4dd68cb049ea",
   "metadata": {},
   "outputs": [],
   "source": [
    "# store performance for each learning rate\n",
    "lPerformance = []"
   ]
  },
  {
   "cell_type": "code",
   "execution_count": 87,
   "id": "3fac9dc3-5470-4e95-80a2-23273ca4e0e6",
   "metadata": {},
   "outputs": [],
   "source": [
    "for l in learningRates:\n",
    "    # create a new instance of the neural network for this learning rate\n",
    "    myNetwork = myNeuralNetwork(inputNodes, hiddenNodes, outputNodes, l)\n",
    "\n",
    "    # begin training the network\n",
    "    for n in trainDataList:\n",
    "        # split values\n",
    "        trainInput = n.split(\",\")\n",
    "        \n",
    "        # scale and shift input\n",
    "        inputs = (np.asarray(trainInput[1:], dtype=\"float\") / 255.0 * 0.99) + 0.01\n",
    "        \n",
    "        # create target output values\n",
    "        targets = np.zeros(outputNodes) + 0.01\n",
    "        \n",
    "        # target label\n",
    "        targets[int(trainInput[0])] = 0.99\n",
    "        \n",
    "        # train\n",
    "        myNetwork.train(inputs, targets)\n",
    "    \n",
    "        pass\n",
    "\n",
    "    # define array holding scores on perfomance\n",
    "    score = []\n",
    "    \n",
    "    # loop through records in the test data\n",
    "    for n in testDataList:\n",
    "        # split values\n",
    "        testInput = n.split(\",\")\n",
    "    \n",
    "        # correct answer is first value\n",
    "        correct = int(testInput[0])\n",
    "    \n",
    "        # scale and shift inputs\n",
    "        inputs = (np.asarray(testInput[1:], dtype=\"float\") / 255.0 * 0.99) + 0.01\n",
    "    \n",
    "        # query network\n",
    "        outputs = myNetwork.query(inputs)\n",
    "    \n",
    "        # index of highest value corresponds to label\n",
    "        label = np.argmax(outputs)\n",
    "    \n",
    "        # append values to score array\n",
    "        # if correct, add 1 to the array\n",
    "        if (label == correct):\n",
    "            score.append(1)\n",
    "        # if incorrect, add 0\n",
    "        else:\n",
    "            score.append(0)\n",
    "    \n",
    "        pass\n",
    "\n",
    "    # calculate performance of model\n",
    "    scoreArray = np.asarray(score)\n",
    "    # append performance to array\n",
    "    lPerformance.append(format(scoreArray.sum() / scoreArray.size * 100, '.2f'))\n",
    "    \n",
    "    pass"
   ]
  },
  {
   "cell_type": "code",
   "execution_count": 88,
   "id": "2fb2bedd-639b-4354-9a72-6c01f813c42e",
   "metadata": {},
   "outputs": [
    {
     "name": "stdout",
     "output_type": "stream",
     "text": [
      "89.30\n",
      "91.00\n",
      "91.60\n",
      "90.60\n",
      "88.70\n",
      "87.60\n",
      "87.60\n",
      "87.10\n",
      "83.70\n",
      "83.40\n"
     ]
    }
   ],
   "source": [
    "for p in lPerformance:\n",
    "    print(p)"
   ]
  },
  {
   "cell_type": "markdown",
   "id": "2a6b8a4f-7f01-447f-9ec7-003c214cdc37",
   "metadata": {},
   "source": [
    "<h4>Plotting the Performance</h4>"
   ]
  },
  {
   "cell_type": "code",
   "execution_count": 134,
   "id": "0c0acd4f-05d2-4341-92c7-0f45651f30fd",
   "metadata": {},
   "outputs": [
    {
     "data": {
      "image/png": "[encoded data removed]",
      "text/plain": [
       "<Figure size 900x400 with 1 Axes>"
      ]
     },
     "metadata": {},
     "output_type": "display_data"
    }
   ],
   "source": [
    "# data for plotting\n",
    "x = [0.1, 0.2, 0.3, 0.4, 0.5, 0.6, 0.7, 0.8, 0.9, 1.0]\n",
    "y = [89.30, 91.00, 91.60, 90.60, 88.70, 87.60, 87.60, 87.10, 83.70, 83.40]\n",
    "\n",
    "plt.figure(figsize=(9,4))\n",
    "\n",
    "plt.plot(x, y, marker='o', linestyle='-', color = 'm', markersize = 8, markerfacecolor = 'w')\n",
    "plt.style.use(\"fivethirtyeight\")\n",
    "\n",
    "plt.ylim(80, 100)\n",
    "\n",
    "# get highest value\n",
    "max_val = max(y)\n",
    "max_index = y.index(max_val)\n",
    "max_x = x[max_index]\n",
    "\n",
    "# highlight best value\n",
    "plt.annotate(\n",
    "    f'Highest: {max_val}%',\n",
    "    xy=(max_x, max_val + 0.5),         \n",
    "    xytext=(max_x, max_val + 3.5), \n",
    "    arrowprops=dict(facecolor='b', shrink=0.05, width=2, headwidth=8),\n",
    "    ha='center'\n",
    ")\n",
    "\n",
    "plt.xlabel(\"Learning Rate\")  \n",
    "plt.ylabel(\"Performance (%)\")  \n",
    "plt.title(\"Model Performance Per Learning Rate\")\n",
    "\n",
    "plt.show()"
   ]
  },
  {
   "cell_type": "markdown",
   "id": "1918de7a-d4d5-4f65-9a6f-e7f7f1fcf260",
   "metadata": {},
   "source": [
    "<h3>Changing Network Shape</h3>"
   ]
  },
  {
   "cell_type": "code",
   "execution_count": 89,
   "id": "315a59e3-a289-4aa7-affa-53a781c459c3",
   "metadata": {},
   "outputs": [],
   "source": [
    "# set number of nodes per layer\n",
    "inputNodes = 784\n",
    "hiddenNodes = 200\n",
    "outputNodes = 10\n",
    "\n",
    "# set learning rate\n",
    "learningRate = 0.2"
   ]
  },
  {
   "cell_type": "code",
   "execution_count": 90,
   "id": "cd093a94-5c00-4d65-a5cd-98fca027987b",
   "metadata": {},
   "outputs": [],
   "source": [
    "# create instance of neural network\n",
    "myNetwork = myNeuralNetwork(inputNodes, hiddenNodes, outputNodes, learningRate)"
   ]
  },
  {
   "cell_type": "code",
   "execution_count": 91,
   "id": "b1aa2f50-1ddf-40c3-81ee-d6e00416de7c",
   "metadata": {},
   "outputs": [],
   "source": [
    "epochs = 2\n",
    "\n",
    "for i in range(epochs):\n",
    "    \n",
    "    # begin training the network\n",
    "    for n in trainDataList:\n",
    "        # split values\n",
    "        trainInput = n.split(\",\")\n",
    "        \n",
    "        # scale and shift input\n",
    "        inputs = (np.asarray(trainInput[1:], dtype=\"float\") / 255.0 * 0.99) + 0.01\n",
    "        \n",
    "        # create target output values\n",
    "        targets = np.zeros(outputNodes) + 0.01\n",
    "        \n",
    "        # target label\n",
    "        targets[int(trainInput[0])] = 0.99\n",
    "        \n",
    "        # train\n",
    "        myNetwork.train(inputs, targets)\n",
    "    \n",
    "        pass\n",
    "        \n",
    "    pass"
   ]
  },
  {
   "cell_type": "code",
   "execution_count": 92,
   "id": "2add4957-6432-4d6c-b26c-87fcfa627c23",
   "metadata": {},
   "outputs": [],
   "source": [
    "# define array holding scores on perfomance\n",
    "score = []\n",
    "\n",
    "# loop through records in the test data\n",
    "for n in testDataList:\n",
    "    # split values\n",
    "    testInput = n.split(\",\")\n",
    "\n",
    "    # correct answer is first value\n",
    "    correct = int(testInput[0])\n",
    "\n",
    "    # scale and shift inputs\n",
    "    inputs = (np.asarray(testInput[1:], dtype=\"float\") / 255.0 * 0.99) + 0.01\n",
    "\n",
    "    # query network\n",
    "    outputs = myNetwork.query(inputs)\n",
    "\n",
    "    # index of highest value corresponds to label\n",
    "    label = np.argmax(outputs)\n",
    "\n",
    "    # append values to score array\n",
    "    # if correct, add 1 to the array\n",
    "    if (label == correct):\n",
    "        score.append(1)\n",
    "    # if incorrect, add 0\n",
    "    else:\n",
    "        score.append(0)\n",
    "\n",
    "    pass"
   ]
  },
  {
   "cell_type": "code",
   "execution_count": 93,
   "id": "a9514403-cb53-44c0-9b6a-e17698837a49",
   "metadata": {},
   "outputs": [
    {
     "name": "stdout",
     "output_type": "stream",
     "text": [
      "Performance: 93.4 %\n"
     ]
    }
   ],
   "source": [
    "# calculate performance of model\n",
    "scoreArray = np.asarray(score)\n",
    "print(\"Performance:\", scoreArray.sum() / scoreArray.size * 100, \"%\")"
   ]
  },
  {
   "cell_type": "markdown",
   "id": "70882856-008d-4cff-b711-5090f06f8c6d",
   "metadata": {},
   "source": [
    "<h4>Finding the Most Optimal No. of Hidden Layers</h4>"
   ]
  },
  {
   "cell_type": "code",
   "execution_count": 94,
   "id": "dcc7a135-fecd-4029-bc34-87cec7b99dff",
   "metadata": {},
   "outputs": [],
   "source": [
    "# set number of nodes per layer\n",
    "inputNodes = 784\n",
    "outputNodes = 10\n",
    "\n",
    "# set learning rate\n",
    "learningRate = 0.2"
   ]
  },
  {
   "cell_type": "code",
   "execution_count": 95,
   "id": "dbbe5235-dc20-4a3f-9df4-ad640c8f66d1",
   "metadata": {},
   "outputs": [],
   "source": [
    "hiddenNodes = [100, 200, 300, 400, 500, 600, 700, 800, 900, 1000]"
   ]
  },
  {
   "cell_type": "code",
   "execution_count": 96,
   "id": "8834d701-a45c-4d95-bdd8-057affa759b2",
   "metadata": {},
   "outputs": [],
   "source": [
    "# store performance for each no of hidden nodes\n",
    "hPerformance = []"
   ]
  },
  {
   "cell_type": "code",
   "execution_count": 97,
   "id": "c0101a0d-4294-4c0d-b4e0-f33a4ee34d8c",
   "metadata": {},
   "outputs": [],
   "source": [
    "for h in hiddenNodes:\n",
    "    # create a new instance of the neural network for this learning rate\n",
    "    myNetwork = myNeuralNetwork(inputNodes, h, outputNodes, learningRate)\n",
    "\n",
    "    # begin training the network\n",
    "    for n in trainDataList:\n",
    "        # split values\n",
    "        trainInput = n.split(\",\")\n",
    "        \n",
    "        # scale and shift input\n",
    "        inputs = (np.asarray(trainInput[1:], dtype=\"float\") / 255.0 * 0.99) + 0.01\n",
    "        \n",
    "        # create target output values\n",
    "        targets = np.zeros(outputNodes) + 0.01\n",
    "        \n",
    "        # target label\n",
    "        targets[int(trainInput[0])] = 0.99\n",
    "        \n",
    "        # train\n",
    "        myNetwork.train(inputs, targets)\n",
    "    \n",
    "        pass\n",
    "\n",
    "    # define array holding scores on perfomance\n",
    "    score = []\n",
    "    \n",
    "    # loop through records in the test data\n",
    "    for n in testDataList:\n",
    "        # split values\n",
    "        testInput = n.split(\",\")\n",
    "    \n",
    "        # correct answer is first value\n",
    "        correct = int(testInput[0])\n",
    "    \n",
    "        # scale and shift inputs\n",
    "        inputs = (np.asarray(testInput[1:], dtype=\"float\") / 255.0 * 0.99) + 0.01\n",
    "    \n",
    "        # query network\n",
    "        outputs = myNetwork.query(inputs)\n",
    "    \n",
    "        # index of highest value corresponds to label\n",
    "        label = np.argmax(outputs)\n",
    "    \n",
    "        # append values to score array\n",
    "        # if correct, add 1 to the array\n",
    "        if (label == correct):\n",
    "            score.append(1)\n",
    "        # if incorrect, add 0\n",
    "        else:\n",
    "            score.append(0)\n",
    "    \n",
    "        pass\n",
    "\n",
    "    # calculate performance of model\n",
    "    scoreArray = np.asarray(score)\n",
    "    # append performance to array\n",
    "    hPerformance.append(format(scoreArray.sum() / scoreArray.size * 100, '.2f'))\n",
    "    \n",
    "    pass"
   ]
  },
  {
   "cell_type": "code",
   "execution_count": 98,
   "id": "c34433e3-df30-40e3-9212-98264b7e7abd",
   "metadata": {},
   "outputs": [
    {
     "name": "stdout",
     "output_type": "stream",
     "text": [
      "90.80\n",
      "90.40\n",
      "91.20\n",
      "91.70\n",
      "91.40\n",
      "91.00\n",
      "90.90\n",
      "91.10\n",
      "91.60\n",
      "91.10\n"
     ]
    }
   ],
   "source": [
    "for p in hPerformance:\n",
    "    print(p)"
   ]
  },
  {
   "cell_type": "markdown",
   "id": "00e80346-1b34-47c1-b55f-5e200b41f183",
   "metadata": {},
   "source": [
    "<h4>Plotting the Performance</h4>"
   ]
  },
  {
   "cell_type": "code",
   "execution_count": 137,
   "id": "8e0e5c7a-9b2a-4253-9399-659de79f699f",
   "metadata": {},
   "outputs": [
    {
     "data": {
      "image/png": "[encoded data removed]",
      "text/plain": [
       "<Figure size 900x400 with 1 Axes>"
      ]
     },
     "metadata": {},
     "output_type": "display_data"
    }
   ],
   "source": [
    "# data for plotting\n",
    "x = [100, 200, 300, 400, 500, 600, 700, 800, 900, 1000]\n",
    "y = [90.80, 90.40, 91.20, 91.70, 91.40, 91.00, 90.90, 91.10, 91.60, 91.10]\n",
    "\n",
    "plt.figure(figsize=(9,4))\n",
    "\n",
    "plt.plot(x, y, marker='o', linestyle='-', color = 'm', markersize = 8, markerfacecolor = 'w')\n",
    "plt.style.use(\"fivethirtyeight\")\n",
    "\n",
    "plt.ylim(90, 100)\n",
    "\n",
    "# get highest value\n",
    "max_val = max(y)\n",
    "max_index = y.index(max_val)\n",
    "max_x = x[max_index]\n",
    "\n",
    "# highlight best value\n",
    "plt.annotate(\n",
    "    f'Highest: {max_val}%',\n",
    "    xy=(max_x, max_val + 0.2),         \n",
    "    xytext=(max_x, max_val + 1.5), \n",
    "    arrowprops=dict(facecolor='b', shrink=0.05, width=2, headwidth=8),\n",
    "    ha='center'\n",
    ")\n",
    "\n",
    "plt.xlabel(\"No. of Hidden Layers\")  \n",
    "plt.ylabel(\"Performance (%)\")  \n",
    "plt.title(\"Model Performance For Each Network Shape\")\n",
    "\n",
    "plt.show()"
   ]
  },
  {
   "cell_type": "markdown",
   "id": "97231237-417f-4f73-8e8a-6591773d7b34",
   "metadata": {},
   "source": [
    "<h2>🎉 The Final Neural Network 🎊</h2>"
   ]
  },
  {
   "cell_type": "code",
   "execution_count": 80,
   "id": "3e8c9856-adbd-4f9d-b255-1e8a50069438",
   "metadata": {},
   "outputs": [],
   "source": [
    "# set number of nodes per layer\n",
    "inputNodes = 784\n",
    "hiddenNodes = 400\n",
    "outputNodes = 10\n",
    "\n",
    "# set learning rate\n",
    "learningRate = 0.2"
   ]
  },
  {
   "cell_type": "code",
   "execution_count": 81,
   "id": "8f211bf8-dd3a-4611-8af6-1ae8e99ff745",
   "metadata": {},
   "outputs": [],
   "source": [
    "# create instance of neural network\n",
    "myNetwork = myNeuralNetwork(inputNodes, hiddenNodes, outputNodes, learningRate)"
   ]
  },
  {
   "cell_type": "code",
   "execution_count": 82,
   "id": "e02fdff8-17fa-4f22-8e2e-47fb82ddbcae",
   "metadata": {},
   "outputs": [],
   "source": [
    "epochs = 7\n",
    "\n",
    "for i in range(epochs):\n",
    "    \n",
    "    # begin training the network\n",
    "    for n in trainDataList:\n",
    "        # split values\n",
    "        trainInput = n.split(\",\")\n",
    "        \n",
    "        # scale and shift input\n",
    "        inputs = (np.asarray(trainInput[1:], dtype=\"float\") / 255.0 * 0.99) + 0.01\n",
    "        \n",
    "        # create target output values\n",
    "        targets = np.zeros(outputNodes) + 0.01\n",
    "        \n",
    "        # target label\n",
    "        targets[int(trainInput[0])] = 0.99\n",
    "        \n",
    "        # train\n",
    "        myNetwork.train(inputs, targets)\n",
    "    \n",
    "        pass\n",
    "        \n",
    "    pass"
   ]
  },
  {
   "cell_type": "code",
   "execution_count": 83,
   "id": "67f40dbf-4fa7-4667-806c-827240904392",
   "metadata": {},
   "outputs": [],
   "source": [
    "# track total and correct predictions per label\n",
    "predictedCounts = []         # how many of each label we see\n",
    "correctCounts = []     # how many were predicted correctly"
   ]
  },
  {
   "cell_type": "code",
   "execution_count": 85,
   "id": "2122b1ab-dea6-4ca1-bfc6-6802ac91c1b0",
   "metadata": {},
   "outputs": [],
   "source": [
    "# loop through records in the test data\n",
    "for n in testDataList:\n",
    "    # split values\n",
    "    testInput = n.split(\",\")\n",
    "\n",
    "    # correct answer is first value\n",
    "    correct = int(testInput[0])\n",
    "\n",
    "    # scale and shift inputs\n",
    "    inputs = (np.asarray(testInput[1:], dtype=\"float\") / 255.0 * 0.99) + 0.01\n",
    "\n",
    "    # query network\n",
    "    outputs = myNetwork.query(inputs)\n",
    "\n",
    "    # index of highest value corresponds to label\n",
    "    label = np.argmax(outputs)\n",
    "\n",
    "    correctCounts.append(correct)\n",
    "    predictedCounts.append(label)\n",
    "\n",
    "    pass"
   ]
  },
  {
   "cell_type": "code",
   "execution_count": 98,
   "id": "e7f1884d-9db0-4157-ad71-ad90cf1521ab",
   "metadata": {},
   "outputs": [
    {
     "name": "stdout",
     "output_type": "stream",
     "text": [
      "Performance: 95.10%\n"
     ]
    }
   ],
   "source": [
    "totalCorrect = np.sum(np.array(correctCounts) == np.array(predictedCounts))\n",
    "totalSamples = len(correctCounts)\n",
    "performance = (totalCorrect / totalSamples) * 100\n",
    "\n",
    "print(f\"Performance: {performance:.2f}%\")"
   ]
  },
  {
   "cell_type": "markdown",
   "id": "33acfbe0-70ef-4d5c-95f0-c04714270fea",
   "metadata": {},
   "source": [
    "<h3>Visualization</h3>"
   ]
  },
  {
   "cell_type": "code",
   "execution_count": 87,
   "id": "044c9bd0-e254-4ba3-8932-19216bf01d57",
   "metadata": {},
   "outputs": [],
   "source": [
    "import seaborn as sns\n",
    "from sklearn.metrics import confusion_matrix"
   ]
  },
  {
   "cell_type": "code",
   "execution_count": 88,
   "id": "e46fa65e-0941-4671-9226-ab70c2d3798f",
   "metadata": {},
   "outputs": [],
   "source": [
    "# generate confusion matrix\n",
    "cm = confusion_matrix(correctCounts, predictedCounts)"
   ]
  },
  {
   "cell_type": "code",
   "execution_count": 89,
   "id": "a761b2d1-5fc0-4435-a84c-b127c545d545",
   "metadata": {},
   "outputs": [
    {
     "data": {
      "image/png": "[encoded data removed]",
      "text/plain": [
       "<Figure size 1000x800 with 2 Axes>"
      ]
     },
     "metadata": {},
     "output_type": "display_data"
    }
   ],
   "source": [
    "plt.figure(figsize=(10, 8))\n",
    "sns.heatmap(cm, annot=True, fmt=\"d\", cmap=\"YlGnBu\", linewidths=0.5, square=True, cbar=True)\n",
    "\n",
    "plt.xlabel(\"Predicted Label\")\n",
    "plt.ylabel(\"Actual Label\")\n",
    "plt.title(\"Confusion Matrix Heatmap (MNIST Model Performance)\")\n",
    "plt.xticks(np.arange(10) + 0.5, range(10))\n",
    "plt.yticks(np.arange(10) + 0.5, range(10), rotation=0)\n",
    "\n",
    "plt.show()"
   ]
  },
  {
   "cell_type": "markdown",
   "id": "9c6f3e79-62cc-4bf8-b62d-f85cbdd3e61d",
   "metadata": {},
   "source": [
    "Notebook by: <i>ERMITANO, Kate Justine</i></br>Taken from: <i>Make Your Own Neural Network (2018)</i> by <i>Tariq Rashid</i>"
   ]
  }
 ],
 "metadata": {
  "kernelspec": {
   "display_name": "Python 3 (ipykernel)",
   "language": "python",
   "name": "python3"
  },
  "language_info": {
   "codemirror_mode": {
    "name": "ipython",
    "version": 3
   },
   "file_extension": ".py",
   "mimetype": "text/x-python",
   "name": "python",
   "nbconvert_exporter": "python",
   "pygments_lexer": "ipython3",
   "version": "3.13.2"
  }
 },
 "nbformat": 4,
 "nbformat_minor": 5
}
