{
 "cells": [
  {
   "cell_type": "markdown",
   "id": "e6497731-f8b8-434e-aca4-a25c8acd9f06",
   "metadata": {},
   "source": [
    "<h1>Let's Build A Neural Network</h1>"
   ]
  },
  {
   "cell_type": "markdown",
   "id": "bffde5cf-d1c5-492b-83c8-a6097a75e6e8",
   "metadata": {},
   "source": [
    "<h2>Quick Python Review</h2>"
   ]
  },
  {
   "cell_type": "markdown",
   "id": "40cd88e6-90d5-4f5a-9ffe-7bebd33aeb6d",
   "metadata": {},
   "source": [
    "<h3>Print 'Hello World'</h3>"
   ]
  },
  {
   "cell_type": "code",
   "execution_count": 1,
   "id": "97d987af-b314-4b38-817d-1ffdd5f72f3f",
   "metadata": {},
   "outputs": [
    {
     "name": "stdout",
     "output_type": "stream",
     "text": [
      "Hello World\n"
     ]
    }
   ],
   "source": [
    "print('Hello World')"
   ]
  },
  {
   "cell_type": "markdown",
   "id": "a20cee37-eebf-4efb-9743-1794bd49c8ae",
   "metadata": {},
   "source": [
    "<h3>Arrays</h3>"
   ]
  },
  {
   "cell_type": "code",
   "execution_count": 2,
   "id": "48a2e683-0907-4b91-a1e5-2739a185223b",
   "metadata": {},
   "outputs": [],
   "source": [
    "myArray = ['Uno', 'Dos', 'Tres']"
   ]
  },
  {
   "cell_type": "code",
   "execution_count": 3,
   "id": "86bc0974-3fe5-48af-9a1b-aacec2c6868c",
   "metadata": {},
   "outputs": [
    {
     "name": "stdout",
     "output_type": "stream",
     "text": [
      "['Uno', 'Dos', 'Tres']\n"
     ]
    }
   ],
   "source": [
    "print(myArray)"
   ]
  },
  {
   "cell_type": "markdown",
   "id": "fe46bf84-f075-405a-93e2-4b37cf1f99e8",
   "metadata": {},
   "source": [
    "<h3>For loops</h3>"
   ]
  },
  {
   "cell_type": "code",
   "execution_count": 4,
   "id": "757b88ac-89b5-4ee6-96b4-ef6d73173c33",
   "metadata": {},
   "outputs": [
    {
     "name": "stdout",
     "output_type": "stream",
     "text": [
      "Uno\n",
      "Dos\n",
      "Tres\n"
     ]
    }
   ],
   "source": [
    "for n in myArray:\n",
    "    print(n)"
   ]
  },
  {
   "cell_type": "markdown",
   "id": "0a08dd0d-1a57-4394-b77d-57438f9126f5",
   "metadata": {},
   "source": [
    "<h3>Functions</h3>"
   ]
  },
  {
   "cell_type": "code",
   "execution_count": 5,
   "id": "eb4b2aa3-841e-4ddc-a350-a4ba4fa5956b",
   "metadata": {},
   "outputs": [],
   "source": [
    "def myFunction(leArray):\n",
    "    for n in leArray:\n",
    "        print(n)"
   ]
  },
  {
   "cell_type": "code",
   "execution_count": 6,
   "id": "c942a845-5b82-44e5-85fe-16667da811e9",
   "metadata": {},
   "outputs": [
    {
     "name": "stdout",
     "output_type": "stream",
     "text": [
      "Uno\n",
      "Dos\n",
      "Tres\n"
     ]
    }
   ],
   "source": [
    "myFunction(myArray)"
   ]
  },
  {
   "cell_type": "code",
   "execution_count": 7,
   "id": "613e9ea9-9196-4c5b-bcf2-ebc4762289c7",
   "metadata": {},
   "outputs": [
    {
     "name": "stdout",
     "output_type": "stream",
     "text": [
      "1\n",
      "2\n",
      "3\n"
     ]
    }
   ],
   "source": [
    "myFunction([1, 2, 3])"
   ]
  },
  {
   "cell_type": "code",
   "execution_count": 8,
   "id": "db9a853f-0f69-4250-9c86-12b22dc76a2d",
   "metadata": {},
   "outputs": [
    {
     "name": "stdout",
     "output_type": "stream",
     "text": [
      "0.1\n",
      "0.2\n",
      "0.3\n"
     ]
    }
   ],
   "source": [
    "myFunction([0.1, 0.2, 0.3])"
   ]
  },
  {
   "cell_type": "markdown",
   "id": "850de340-2f60-4013-9ea1-c8a46dcd2ebb",
   "metadata": {},
   "source": [
    "<h2>Creating Functions and Initialising The Network</h2>"
   ]
  },
  {
   "cell_type": "markdown",
   "id": "b7ddac89-caf6-45eb-a5c6-68db9c0897f6",
   "metadata": {},
   "source": [
    "A neural network should have the following basic functions:\n",
    "<ul>\n",
    "    <li><b>Initialisation</b> - for defining the input, hidden, and output nodes.</li>\n",
    "    <li><b>Training</b> - for refining the weights during the training process.</li>\n",
    "    <li><b>Query</b> - to process an output given the input.</li>\n",
    "</ul>"
   ]
  },
  {
   "cell_type": "code",
   "execution_count": 9,
   "id": "448c708c-81c6-49a9-b7fc-21511b10fe8b",
   "metadata": {},
   "outputs": [],
   "source": [
    "# class definition\n",
    "class myNeuralNetwork:\n",
    "\n",
    "    # initialisation\n",
    "    def __init__():\n",
    "        pass\n",
    "\n",
    "    # training\n",
    "    def train():\n",
    "        pass\n",
    "\n",
    "    # querying\n",
    "    def query():\n",
    "        pass"
   ]
  },
  {
   "cell_type": "markdown",
   "id": "62ed2d60-6906-4794-9faf-66d7a2703eb1",
   "metadata": {},
   "source": [
    "<h3>Initialising The Network</h3>"
   ]
  },
  {
   "cell_type": "code",
   "execution_count": 10,
   "id": "f22172cc-233a-4357-80ca-d79682587e31",
   "metadata": {},
   "outputs": [],
   "source": [
    "# class definition\n",
    "class myNeuralNetwork:\n",
    "\n",
    "    # initialisation\n",
    "    def __init__(self, inputNodes, hiddenNodes, outputNodes, learningRate):\n",
    "        # set number of nodes per layer\n",
    "        self.inputNodes = inputNodes\n",
    "        self.hiddenNodes = hiddenNodes\n",
    "        self.outputNodes = outputNodes\n",
    "\n",
    "        # set learning rate\n",
    "        self.learningRate = learningRate\n",
    "\n",
    "        pass\n",
    "\n",
    "    # training\n",
    "    def train():\n",
    "        pass\n",
    "\n",
    "    # querying\n",
    "    def query():\n",
    "        pass"
   ]
  },
  {
   "cell_type": "code",
   "execution_count": 11,
   "id": "a3ce0174-e081-4799-8b44-1a6d29a3c392",
   "metadata": {},
   "outputs": [],
   "source": [
    "# set number of nodes per layer\n",
    "inputNodes = 3\n",
    "hiddenNodes = 3\n",
    "outputNodes = 3\n",
    "\n",
    "# set learning rate\n",
    "learningRate = 0.3"
   ]
  },
  {
   "cell_type": "code",
   "execution_count": 12,
   "id": "d09763d6-e4eb-4028-bf00-f95b88ad8380",
   "metadata": {},
   "outputs": [],
   "source": [
    "# create instance of neural network\n",
    "myNetwork = myNeuralNetwork(inputNodes, hiddenNodes, outputNodes, learningRate)"
   ]
  },
  {
   "cell_type": "markdown",
   "id": "d46ccdbd-f9aa-401b-9860-e672a4ecb655",
   "metadata": {},
   "source": [
    "<h3>Initialising Weights</h3>"
   ]
  },
  {
   "cell_type": "markdown",
   "id": "929d2e29-7356-45ef-b612-8807e2cca85a",
   "metadata": {},
   "source": [
    "<h4>Import Numpy Library</h4>"
   ]
  },
  {
   "cell_type": "code",
   "execution_count": 13,
   "id": "26bfae91-5af3-4b7e-8ebc-46551aac1cb1",
   "metadata": {},
   "outputs": [],
   "source": [
    "import numpy as np"
   ]
  },
  {
   "cell_type": "code",
   "execution_count": 14,
   "id": "47954940-f0d9-4b57-ab58-1ba0820b523d",
   "metadata": {},
   "outputs": [
    {
     "data": {
      "text/plain": [
       "array([[ 0.00303361,  0.02141858,  0.332328  ],\n",
       "       [-0.24591873, -0.15091297, -0.21523857],\n",
       "       [ 0.05706478,  0.09855197,  0.48616968]])"
      ]
     },
     "execution_count": 14,
     "metadata": {},
     "output_type": "execute_result"
    }
   ],
   "source": [
    "np.random.rand(3, 3) - 0.5"
   ]
  },
  {
   "cell_type": "code",
   "execution_count": 15,
   "id": "4da5fa0a-2b57-46be-b0a9-860f70293c91",
   "metadata": {},
   "outputs": [
    {
     "data": {
      "text/plain": [
       "array([[-0.15180167, -0.2288197 , -0.9082402 ],\n",
       "       [ 0.11588923,  0.2429699 , -0.08997956],\n",
       "       [ 0.21106557, -0.46745529, -0.17720931]])"
      ]
     },
     "execution_count": 15,
     "metadata": {},
     "output_type": "execute_result"
    }
   ],
   "source": [
    "np.random.normal(0.0, pow(inputNodes, -0.5), size=(hiddenNodes, inputNodes))"
   ]
  },
  {
   "cell_type": "markdown",
   "id": "c176a338-7eb2-489b-a064-80eeeed0da00",
   "metadata": {},
   "source": [
    "<h4>Adding Weights To Our __init__ Function</h4>"
   ]
  },
  {
   "cell_type": "code",
   "execution_count": 16,
   "id": "df659908-674e-40d8-b718-489abad49798",
   "metadata": {},
   "outputs": [],
   "source": [
    "# class definition\n",
    "class myNeuralNetwork:\n",
    "\n",
    "    # initialisation\n",
    "    def __init__(self, inputNodes, hiddenNodes, outputNodes, learningRate):\n",
    "        # set number of nodes per layer\n",
    "        self.inputNodes = inputNodes\n",
    "        self.hiddenNodes = hiddenNodes\n",
    "        self.outputNodes = outputNodes\n",
    "\n",
    "        # set learning rate\n",
    "        self.learningRate = learningRate\n",
    "\n",
    "        # link weight matrices between nodes\n",
    "        self.weightsInputToHidden = numpy.random.normal(0.0, pow(inputNodes, -0.5), size=(hiddenNodes, inputNodes))\n",
    "        self.weightsHiddenToOutput = numpy.random.normal(0.0, pow(hiddenNodes, -0.5), size=(outputNodes, hiddenNodes))\n",
    "\n",
    "        pass\n",
    "\n",
    "    # training\n",
    "    def train():\n",
    "        pass\n",
    "\n",
    "    # querying\n",
    "    def query():\n",
    "        pass"
   ]
  },
  {
   "cell_type": "markdown",
   "id": "bfe30cc0-616e-4196-b0c4-645b36b105a6",
   "metadata": {},
   "source": [
    "<h3>Querying The Network</h3>"
   ]
  },
  {
   "cell_type": "markdown",
   "id": "caa20c21-0154-47a0-adbd-a13716a4218d",
   "metadata": {},
   "source": [
    "<h4>Activation Function</h4>"
   ]
  },
  {
   "cell_type": "code",
   "execution_count": 17,
   "id": "38ee1fab-5e13-4c98-a8e9-011d5a146726",
   "metadata": {},
   "outputs": [],
   "source": [
    "import scipy.special"
   ]
  },
  {
   "cell_type": "code",
   "execution_count": 18,
   "id": "0006225a-368d-47d6-84c8-87bc538534e7",
   "metadata": {},
   "outputs": [],
   "source": [
    "# sigmoid function\n",
    "activationFunction = lambda x: scipy.special.expit(x)"
   ]
  },
  {
   "cell_type": "markdown",
   "id": "0d79f2b6-bf1e-4ff9-90d8-47fe0015d3ad",
   "metadata": {},
   "source": [
    "<h4>Matrix Computation Using Dot Function</h4>"
   ]
  },
  {
   "cell_type": "code",
   "execution_count": 19,
   "id": "4435f167-fab4-4340-9842-2e786fba3408",
   "metadata": {},
   "outputs": [
    {
     "data": {
      "text/plain": [
       "[[1, 2, 3], [4, 5, 6], [7, 8, 9]]"
      ]
     },
     "execution_count": 19,
     "metadata": {},
     "output_type": "execute_result"
    }
   ],
   "source": [
    "myArray1 = ([[1, 2, 3], \n",
    "             [4, 5, 6], \n",
    "             [7, 8, 9]])\n",
    "myArray1"
   ]
  },
  {
   "cell_type": "code",
   "execution_count": 20,
   "id": "de269c15-7088-4f02-8b36-6cac0a2410f2",
   "metadata": {},
   "outputs": [
    {
     "data": {
      "text/plain": [
       "[[1], [1], [1]]"
      ]
     },
     "execution_count": 20,
     "metadata": {},
     "output_type": "execute_result"
    }
   ],
   "source": [
    "myArray2 = ([[1], \n",
    "             [1], \n",
    "             [1]])\n",
    "myArray2"
   ]
  },
  {
   "cell_type": "code",
   "execution_count": 21,
   "id": "18a7e702-6a73-404c-b369-950e86b38b1f",
   "metadata": {},
   "outputs": [
    {
     "data": {
      "text/plain": [
       "array([[ 6],\n",
       "       [15],\n",
       "       [24]])"
      ]
     },
     "execution_count": 21,
     "metadata": {},
     "output_type": "execute_result"
    }
   ],
   "source": [
    "np.dot(myArray1, myArray2)"
   ]
  },
  {
   "cell_type": "markdown",
   "id": "cbcc0e92-b042-48ae-9e5d-f4bd3a6d1783",
   "metadata": {},
   "source": [
    "<h4>Calculating Signals Between Layers</h4>"
   ]
  },
  {
   "cell_type": "code",
   "execution_count": 22,
   "id": "946fba0b-ece0-4242-a061-28c3ff64dd59",
   "metadata": {},
   "outputs": [],
   "source": [
    "inputsList = ([[1, 2, 3], \n",
    "             [4, 5, 6], \n",
    "             [7, 8, 9]])\n",
    "\n",
    "# convert inputs to 2D matrix\n",
    "inputs = np.array(inputsList, ndmin = 2).T"
   ]
  },
  {
   "cell_type": "code",
   "execution_count": 23,
   "id": "cbf66179-b3ab-471c-b4cd-359114bec560",
   "metadata": {},
   "outputs": [],
   "source": [
    "# class definition\n",
    "class myNeuralNetwork:\n",
    "\n",
    "    # initialisation\n",
    "    def __init__(self, inputNodes, hiddenNodes, outputNodes, learningRate):\n",
    "        # set number of nodes per layer\n",
    "        self.inputNodes = inputNodes\n",
    "        self.hiddenNodes = hiddenNodes\n",
    "        self.outputNodes = outputNodes\n",
    "\n",
    "        # set learning rate\n",
    "        self.learningRate = learningRate\n",
    "\n",
    "        # link weight matrices between nodes\n",
    "        self.weightsInputToHidden = np.random.normal(0.0, pow(inputNodes, -0.5), size=(hiddenNodes, inputNodes))\n",
    "        self.weightsHiddenToOutput = np.random.normal(0.0, pow(hiddenNodes, -0.5), size=(outputNodes, hiddenNodes))\n",
    "\n",
    "        pass\n",
    "\n",
    "    # training\n",
    "    def train():\n",
    "        pass\n",
    "\n",
    "    # querying\n",
    "    def query(self, inputs_list):\n",
    "        # convert inputs to 2D matrix\n",
    "        inputs = np.array(inputsList, ndmin = 2).T\n",
    "        \n",
    "        # compute signals into hidden layer\n",
    "        hiddenInputs = np.dot(self.weightsInputToHidden, inputs)\n",
    "        # compute signals from hidden layer\n",
    "        hiddenOutputs = self.activationFunction(hiddenInputs)\n",
    "\n",
    "        # compute signals into output layer\n",
    "        finalInputs = np.dot(self.weightsHiddenToOutput, hiddenOutputs)\n",
    "        # compute signals from output layer\n",
    "        finalOutputs = selfactivationFunction(finalInputs)\n",
    "        \n",
    "        pass"
   ]
  },
  {
   "cell_type": "code",
   "execution_count": null,
   "id": "d1f87b29-fe02-4ce2-95a9-080bcda7a742",
   "metadata": {},
   "outputs": [],
   "source": []
  }
 ],
 "metadata": {
  "kernelspec": {
   "display_name": "Python 3 (ipykernel)",
   "language": "python",
   "name": "python3"
  },
  "language_info": {
   "codemirror_mode": {
    "name": "ipython",
    "version": 3
   },
   "file_extension": ".py",
   "mimetype": "text/x-python",
   "name": "python",
   "nbconvert_exporter": "python",
   "pygments_lexer": "ipython3",
   "version": "3.13.2"
  }
 },
 "nbformat": 4,
 "nbformat_minor": 5
}
